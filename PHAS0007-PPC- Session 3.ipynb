{
 "cells": [
  {
   "cell_type": "markdown",
   "metadata": {},
   "source": [
    "# Joshua Giblin-Burnham- Session 3"
   ]
  },
  {
   "cell_type": "code",
   "execution_count": 1,
   "metadata": {},
   "outputs": [],
   "source": [
    "import numpy as np"
   ]
  },
  {
   "cell_type": "markdown",
   "metadata": {},
   "source": [
    "## Part 1:\n",
    "\n",
    "\n",
    "1. `np.array([0,5,10])` will create an array of **_integers_** starting at 0, finishing at 10, with interval 5. Use a different numpy function to create the same array automatically (i.e. choose an appropriate function from the list given in the \"Other ways to create arrays\" section of the script). Assign this to the variable name `array_a`"
   ]
  },
  {
   "cell_type": "code",
   "execution_count": 2,
   "metadata": {},
   "outputs": [
    {
     "name": "stdout",
     "output_type": "stream",
     "text": [
      "Array a: [ 0  5 10]\n"
     ]
    }
   ],
   "source": [
    "array_a=np.linspace(0,10,3).astype(int)\n",
    "\n",
    "print(\"Array a:\",array_a)\n",
    "\n",
    "# linspace creates 3 equidisant values from 0-10, .astype sets them to intergers"
   ]
  },
  {
   "cell_type": "markdown",
   "metadata": {},
   "source": [
    "2. Create (automatically, not using np.array!) another array that contains 3 equally-spaced floating point numbers starting at 2.5 and finishing at 3.5. Assign this to the variable name `array_b`.\n",
    "\n",
    "   Then use array slicing to output the second element of this array."
   ]
  },
  {
   "cell_type": "code",
   "execution_count": 3,
   "metadata": {},
   "outputs": [
    {
     "name": "stdout",
     "output_type": "stream",
     "text": [
      "Array b: [2.5 3.  3.5]\n"
     ]
    },
    {
     "data": {
      "text/plain": [
       "array([3.])"
      ]
     },
     "execution_count": 3,
     "metadata": {},
     "output_type": "execute_result"
    }
   ],
   "source": [
    "array_b=np.linspace(2.5,3.5,3)\n",
    "\n",
    "print(\"Array b:\",array_b)\n",
    "\n",
    "#we want floating points so not.astype\n",
    "\n",
    "array_b[1:2]\n",
    "\n",
    "#slices from 1 to and not including 2"
   ]
  },
  {
   "cell_type": "markdown",
   "metadata": {},
   "source": [
    "3. Use the multiplication operator `*` to multiply `array_a` and `array_b` together."
   ]
  },
  {
   "cell_type": "code",
   "execution_count": 4,
   "metadata": {},
   "outputs": [
    {
     "name": "stdout",
     "output_type": "stream",
     "text": [
      "Array a: [ 0  5 10]\n",
      "Array b: [2.5 3.  3.5]\n",
      "(Array A)*(Array b)= [ 0. 15. 35.]\n",
      "Sum of (Array a)*(Array b)= 50.0\n"
     ]
    }
   ],
   "source": [
    "print(\"Array a:\",array_a)\n",
    "print(\"Array b:\",array_b)\n",
    "\n",
    "array_a*array_b\n",
    "\n",
    "print(\"(Array A)*(Array b)=\",array_a*array_b)\n",
    "\n",
    "print(\"Sum of (Array a)*(Array b)=\",sum(array_a*array_b))\n"
   ]
  },
  {
   "cell_type": "markdown",
   "metadata": {},
   "source": [
    "4. Use your awesome google skills to find numpy functions that will find the dot product and the cross product of these two arrays. Use a text cell to comment on the differences between this and using the `*` operator."
   ]
  },
  {
   "cell_type": "code",
   "execution_count": 5,
   "metadata": {},
   "outputs": [
    {
     "name": "stdout",
     "output_type": "stream",
     "text": [
      "Vector a: 0 i 5 j 10 k\n",
      "Vector b: 2.5 i 3.0 j 3.5 k\n",
      "a.b= 50.0\n",
      "axb= -12.5 i 25.0 j -12.5 k\n"
     ]
    }
   ],
   "source": [
    "print (\"Vector a:\",array_a[0],\"i\",array_a[1],\"j\",array_a[2],\"k\")\n",
    "print (\"Vector b:\",array_b[0],\"i\",array_b[1],\"j\",array_b[2],\"k\")\n",
    "\n",
    "#prints arrays as vectors notation\n",
    "\n",
    "dot= np.dot(array_a,array_b)\n",
    "\n",
    "cross= np.cross(array_a,array_b)\n",
    "\n",
    "#calculates dot product and cross product\n",
    "\n",
    "print(\"a.b=\",dot)\n",
    "print (\"axb=\",cross[0],\"i\",cross[1],\"j\",cross[2],\"k\")\n"
   ]
  },
  {
   "cell_type": "markdown",
   "metadata": {},
   "source": [
    "##### 4) The \"`*`\" Operator multiplies the corresponding components of each array to create a new array, the summation of the array is equal to the dot product as shown- the dot product is a scalar.  The cross product creates another array/ vector, calculated from the determinant of a 3x3 matrix= [i,j,k] [a,b,c] [d,e,f]. In use dot and cross products work as functions on data set, where as, \"`*`\" only works as a operator\n",
    "  \n"
   ]
  },
  {
   "cell_type": "markdown",
   "metadata": {},
   "source": [
    "5. We met the \"`while`\" loop last week, and mentioned the \"`for`\" loop. An example of a \"`for`\" loop is in the cell below. Add comments to this cell *and* complete the text cell below to explain how this works."
   ]
  },
  {
   "cell_type": "code",
   "execution_count": 6,
   "metadata": {
    "scrolled": true
   },
   "outputs": [
    {
     "name": "stdout",
     "output_type": "stream",
     "text": [
      "[1.    1.375 1.75  2.125 2.5  ]\n",
      "n is  1.0\n",
      "n*3 is  3.0\n",
      "n is  1.375\n",
      "n*3 is  4.125\n",
      "n is  1.75\n",
      "n*3 is  5.25\n",
      "n is  2.125\n",
      "n*3 is  6.375\n",
      "n is  2.5\n",
      "n*3 is  7.5\n",
      "Finished\n"
     ]
    }
   ],
   "source": [
    "r = np.linspace(1, 2.5, 5)\n",
    "#sets up the array \"r\", as 5 equidistant floating points from 1 to 2.5, including 1 and 2.5\n",
    "\n",
    "print(r)\n",
    "\n",
    "for n in r:\n",
    "#initalises \"for\" loop, to execute for each element of r array\n",
    "\n",
    "    print(\"n is \", n)\n",
    "    print(\"n*3 is \", n*3)\n",
    "\n",
    "#prints values\n",
    "    \n",
    "print(\"Finished\")\n",
    "# Once for loop ends print function, prints \"finished\" "
   ]
  },
  {
   "cell_type": "markdown",
   "metadata": {},
   "source": [
    "##### 5) The `for` loops repeat a fixed number of times, for each element of the array, it iterates over each part of the array in order, executing the indented code each time. Once last term of array is reached the code ends.\n",
    "\n"
   ]
  },
  {
   "cell_type": "markdown",
   "metadata": {},
   "source": [
    "## Part 2:\n",
    "\n",
    "For this part of the task you will be working with the \"wheat spike\" example you saw in the first PHAS0007 \"Data Analysis and Statistics\" lecture, and use Python to reproduce some of the calculations you saw there.\n",
    "\n",
    "You'll probably want to consult the lecture slides on Dr Llorente Garcia's Moodle as well as the PHAS0007 Data Analysis Booklet.\n",
    "\n",
    "Download the file \"wheatdata.txt\" from Moodle and save it in the same directory as your Notebook. This data file contains the same data as on slide 11 of the lecture slides.\n",
    "\n",
    "1. Use the code cell below to:\n",
    "    * Import the data from this file into an array using `np.loadtxt()` - choose your own (sensible) variable name for this array.\n",
    "    * Print out the array with an appropriate text string."
   ]
  },
  {
   "cell_type": "code",
   "execution_count": 7,
   "metadata": {},
   "outputs": [
    {
     "name": "stdout",
     "output_type": "stream",
     "text": [
      "Array of no. spikes per patch: [533 440 484 446 474 492 512 515 528 572]\n"
     ]
    }
   ],
   "source": [
    "x= np.loadtxt(\"wheatdata.txt\").astype(int)\n",
    "\n",
    "print(\"Array of no. spikes per patch:\",x)\n"
   ]
  },
  {
   "cell_type": "markdown",
   "metadata": {},
   "source": [
    "2. Using information from the data analysis booklet or google, find the appropriate numpy function to calculate the mean number of spikes in each patch. Calculate this in the cell below, and again, output this with an appropriate text string."
   ]
  },
  {
   "cell_type": "code",
   "execution_count": 8,
   "metadata": {},
   "outputs": [
    {
     "name": "stdout",
     "output_type": "stream",
     "text": [
      "Mean no. spikes in each patch: 499.6\n",
      "Rounded Mean no. spikes in each patch: 500.0\n"
     ]
    }
   ],
   "source": [
    "μ= np.mean(x)\n",
    "\n",
    "μr=round(np.mean(x),0)\n",
    "\n",
    "print(\"Mean no. spikes in each patch:\",μ)\n",
    "print(\"Rounded Mean no. spikes in each patch:\",μr)"
   ]
  },
  {
   "cell_type": "markdown",
   "metadata": {},
   "source": [
    "3. The formula for the (sample) standard deviation is \n",
    "$$ \\sigma = \\sqrt{\\frac{\\sum{(x_i - \\bar{x})^2}}{N-1}}, $$\n",
    "\n",
    "   where $N$ is the number of data points and $\\bar{x}$ the average you just calculated. \n",
    "   \n",
    "   Use the python function `len()` to calculate a value for $N$ in the cell below, and again, output this with an appropriate text string. Remember, you can use \"SHIFT+TAB\" with the cursor on a function name to view the documentation for that function."
   ]
  },
  {
   "cell_type": "code",
   "execution_count": 9,
   "metadata": {},
   "outputs": [
    {
     "name": "stdout",
     "output_type": "stream",
     "text": [
      "Number of data points (N) for Wheat Data: 10\n"
     ]
    }
   ],
   "source": [
    "N= len(x)\n",
    "\n",
    "print(\"Number of data points (N) for Wheat Data:\",N)"
   ]
  },
  {
   "cell_type": "markdown",
   "metadata": {},
   "source": [
    "We're going to calculate the numerator of the equation for the standard deviation in steps. \n",
    "\n",
    "We can calculate the individual deviations $d_i = x_i - \\bar{x}$ as in the code cell below. \n",
    "\n",
    "You will need to make sure that the variable names here match the variable names you've chosen above."
   ]
  },
  {
   "cell_type": "code",
   "execution_count": 10,
   "metadata": {},
   "outputs": [
    {
     "name": "stdout",
     "output_type": "stream",
     "text": [
      "The individual deviations from the mean are [ 33.4 -59.6 -15.6 -53.6 -25.6  -7.6  12.4  15.4  28.4  72.4]\n"
     ]
    }
   ],
   "source": [
    "deviations = x - μ                            # calculate individual deviations\n",
    "print(\"The individual deviations from the mean are\", deviations) # output this value with an appropriate text string"
   ]
  },
  {
   "cell_type": "markdown",
   "metadata": {},
   "source": [
    "Note how this works: `spike_data` is an array of values, but `mean_spikes` is a single value. Numpy will automatically subtract `mean_spikes` from every element of the array `spike_data`.\n",
    "\n"
   ]
  },
  {
   "cell_type": "markdown",
   "metadata": {},
   "source": [
    "5. Now we have calculated the individual deviations, we can square them, then sum them together using `np.sum()`. Do this in the cell below. Make sure you do the squaring and summing  in the right order though!\n",
    "\n",
    "   Remember to print out the result with an appropriate text string."
   ]
  },
  {
   "cell_type": "code",
   "execution_count": 11,
   "metadata": {},
   "outputs": [
    {
     "name": "stdout",
     "output_type": "stream",
     "text": [
      "The summation of deviation squared: 14900.0\n"
     ]
    }
   ],
   "source": [
    "Σd= round(np.sum(deviations**2),-2)\n",
    "\n",
    "print(\"The summation of deviation squared:\",Σd)\n"
   ]
  },
  {
   "cell_type": "markdown",
   "metadata": {},
   "source": [
    "6. Now you have all the elements you need to calculate the standard deviation using the equation in question 3 above. Do this in the cell below. You should find your answer is close to (but not exactly the same as) the standard deviation calculated in the lecture slides. \n",
    "\n",
    "    Remember to print out the result with an appropriate text string. Yes, you will always need to do this."
   ]
  },
  {
   "cell_type": "code",
   "execution_count": 12,
   "metadata": {},
   "outputs": [
    {
     "name": "stdout",
     "output_type": "stream",
     "text": [
      "The standard Deviation of wheat patches: 40.688518719112345\n",
      "The rounded standard Deviation of wheat patches: 40.7\n"
     ]
    }
   ],
   "source": [
    "𝜎=(Σd/(N-1))**0.5\n",
    "𝜎r= round((Σd/(N-1))**0.5,1)\n",
    "\n",
    "print(\"The standard Deviation of wheat patches:\",𝜎)\n",
    "print(\"The rounded standard Deviation of wheat patches:\",𝜎r)"
   ]
  },
  {
   "cell_type": "markdown",
   "metadata": {},
   "source": [
    "That was rather an effort to calculate the standard deviation, and fortunately numpy has a function that will do this for you: `np.std()`.\n",
    "\n",
    "You do have to be a bit careful with this function, and you're about to see why. Run the cell below, compare the results to what you just calculated above, then read both the [documentation for `np.std()`](https://docs.scipy.org/doc/numpy/reference/generated/numpy.std.html) and the information in section 2.6 (p.13) of [Hughes and Hase](https://ebookcentral.proquest.com/lib/ucl/reader.action?docID=584562&ppg=25.) (You may need to sign in with your UCL credentials to access this link).\n",
    "\n",
    "7. Then use the text cell below to state which version of the standard deviation you should use here, and (briefly) why."
   ]
  },
  {
   "cell_type": "code",
   "execution_count": 13,
   "metadata": {},
   "outputs": [
    {
     "name": "stdout",
     "output_type": "stream",
     "text": [
      "Standard deviation: first calculation gives 38.647638996451 , second calculation gives 40.738188472243095\n"
     ]
    }
   ],
   "source": [
    "stdev_1 = np.std(x)          # Edit to reflect your chosen variable names\n",
    "stdev_2 = np.std(x, ddof=1)  # Edit to reflect your chosen variable names\n",
    "\n",
    "print(\"Standard deviation: first calculation gives\", stdev_1, \", second calculation gives\", stdev_2)"
   ]
  },
  {
   "cell_type": "markdown",
   "metadata": {},
   "source": [
    "##### 7)  The second calculation is appropriate here, this is as the first calculation does not account for the degrees of freedom of the set, it uses 0 ddof and therefore would have a denominator of just `N`; where as the secound calculations sets ddof=1, this gives a denominator of `N-1`. Calculations with `N` as the denominator give a biased sample deviation estimation where as `N-1` gives an unbias sample deviation (Bessel's correction). This comes from using a sample mean and not the population mean, in calculating a sample mean we have uncertainty to whether it is equal to the population mean. This introduces a degree of freedom as there is variation in the vallue of sample mean. This is corrected by using `N-1` which inclease the deviation, and greater spread means greater uncertainty."
   ]
  },
  {
   "cell_type": "markdown",
   "metadata": {},
   "source": [
    "8. We can also calculate the standard error of the mean, which is given by \n",
    "   $$\\alpha = \\frac{\\sigma_{N-1}}{\\sqrt{N}}$$\n",
    "   Apply what you've learned above to calculate this in the cell below. "
   ]
  },
  {
   "cell_type": "code",
   "execution_count": 14,
   "metadata": {},
   "outputs": [
    {
     "name": "stdout",
     "output_type": "stream",
     "text": [
      "Standard Error of wheat patch calculation: 12.866839377079188\n",
      "Rounded Standard Error of wheat patch calculation: 12.9\n"
     ]
    }
   ],
   "source": [
    "𝛼= (𝜎/(N**0.5))\n",
    "\n",
    "𝛼r=round((𝜎/(N**0.5)),1)\n",
    "\n",
    "print(\"Standard Error of wheat patch calculation:\", 𝛼)\n",
    "print(\"Rounded Standard Error of wheat patch calculation:\", 𝛼r)"
   ]
  },
  {
   "cell_type": "markdown",
   "metadata": {},
   "source": [
    "9. Finally, use your google skills to find a python function that will calculate the standard error of the mean for you, and verify that you get the same result when using this function (hint: this function is not in numpy, you will need to import another module!)"
   ]
  },
  {
   "cell_type": "code",
   "execution_count": 15,
   "metadata": {},
   "outputs": [
    {
     "name": "stdout",
     "output_type": "stream",
     "text": [
      "Standard error from python function 12.866839377079188\n"
     ]
    }
   ],
   "source": [
    " from scipy import stats\n",
    "    \n",
    "𝛼1= stats.sem(x)\n",
    "    \n",
    "print(\"Standard error from python function\", 𝛼)"
   ]
  }
 ],
 "metadata": {
  "kernelspec": {
   "display_name": "Python 3",
   "language": "python",
   "name": "python3"
  },
  "language_info": {
   "codemirror_mode": {
    "name": "ipython",
    "version": 3
   },
   "file_extension": ".py",
   "mimetype": "text/x-python",
   "name": "python",
   "nbconvert_exporter": "python",
   "pygments_lexer": "ipython3",
   "version": "3.7.3"
  }
 },
 "nbformat": 4,
 "nbformat_minor": 2
}
