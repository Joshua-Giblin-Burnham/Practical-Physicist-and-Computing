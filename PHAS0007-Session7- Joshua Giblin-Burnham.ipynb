{
 "cells": [
  {
   "cell_type": "markdown",
   "metadata": {
    "collapsed": true
   },
   "source": [
    "# Session 7- Joshua Giblin-Burnham\n",
    "Vpython allows use to create 3-d ojects from code. In this notebook we will be modelling the structure of NaCl, this forms an ionic lattice in which Na+ and Cl- ions are arrange in a alternating arrangement. They are held in the lattice by the electrostatic force of attraction between the ions. The ions can be modelled as ppoint charges, this means we can model the forces between the ions as defined by Coloumbs Law: $$ U = \\frac{1}{4\\pi \\varepsilon_0} \\frac{q_1 q_2}{r} $$"
   ]
  },
  {
   "cell_type": "code",
   "execution_count": 1,
   "metadata": {},
   "outputs": [
    {
     "data": {
      "text/html": [
       "<div id=\"glowscript\" class=\"glowscript\"></div>"
      ],
      "text/plain": [
       "<IPython.core.display.HTML object>"
      ]
     },
     "metadata": {},
     "output_type": "display_data"
    },
    {
     "data": {
      "application/javascript": [
       "if (typeof Jupyter !== \"undefined\") { window.__context = { glowscript_container: $(\"#glowscript\").removeAttr(\"id\")};}else{ element.textContent = ' ';}"
      ],
      "text/plain": [
       "<IPython.core.display.Javascript object>"
      ]
     },
     "metadata": {},
     "output_type": "display_data"
    }
   ],
   "source": [
    "import numpy as np\n",
    "from vpython import sphere, color, vector, arrow, canvas"
   ]
  },
  {
   "cell_type": "markdown",
   "metadata": {},
   "source": [
    "### NaCl (rocksalt) structure\n",
    "\n",
    "Now we'll look at a Sodium Chloride crystal structure. This is also a cubic crystal structure, but now the atoms are arranged so that they alternate in each plane, like this:\n",
    "https://commons.wikimedia.org/wiki/File:Sodium-chloride-3D-ionic.png#/media/File:Sodium-chloride-3D-ionic.png\n",
    "\n",
    "If we label the coordinates of each atom by `(i,j,k)`, as before, then for this structure we have sodium atoms where $ i + j + k $ is even, and chlorine atoms where $i + j + k$ is odd. You can find further information on these crystal structures, if you're interested: http://en.wikipedia.org/wiki/Cubic_crystal_system and https://en.wikipedia.org/wiki/Crystal_structure )\n",
    "\n",
    "Here is the code from the script that creates the model of the simple cubic structure. \n"
   ]
  },
  {
   "cell_type": "markdown",
   "metadata": {},
   "source": [
    "<div class=\"alert alert-success\">\n",
    "<b>TASK PART 1:</b>\n",
    "In the code cell below, adapt this code so that instead of drawing a green atom-sphere at each location, it draws:\n",
    "<ul>\n",
    "<li> A white sphere to represent the sodium atom at the centre of the coordinate system (i.e. where $i = j = k = 0$);</li>\n",
    "<li> A sphere (choose any colour you like) to represent the sodium atoms at all coordinates where $i + j + k$ is an even integer; and</li>\n",
    "<li> A sphere (choose any other colour) to represent the chlorine atoms at all the other coordinates, i.e. where $i + j + k$ is odd.</li>\n",
    "</ul> \n",
    "<br>\n",
    "    Hint: Rather than using nested <tt>if</tt> statements, you will find it useful to remember the <tt>if/elif/else</tt> structure we saw in session 1 - you can find a summary of this in section 2.5.1 (page 56) of <a href=\"https://www.cambridge.org/core/books/learning-scientific-programming-with-python/3D264483BC7B380A3059B3861C661237\">Hill: Learning Scientific Programming</a>, or at <a href=\"https://docs.python.org/3/tutorial/controlflow.html\">https://docs.python.org/3/tutorial/controlflow.html</a>\n",
    "</div>"
   ]
  },
  {
   "cell_type": "code",
   "execution_count": 2,
   "metadata": {
    "scrolled": true
   },
   "outputs": [
    {
     "data": {
      "text/html": [
       "<div id=\"glowscript\" class=\"glowscript\"></div>"
      ],
      "text/plain": [
       "<IPython.core.display.HTML object>"
      ]
     },
     "metadata": {},
     "output_type": "display_data"
    },
    {
     "data": {
      "application/javascript": [
       "if (typeof Jupyter !== \"undefined\") { window.__context = { glowscript_container: $(\"#glowscript\").removeAttr(\"id\")};}else{ element.textContent = ' ';}"
      ],
      "text/plain": [
       "<IPython.core.display.Javascript object>"
      ]
     },
     "metadata": {},
     "output_type": "display_data"
    },
    {
     "data": {
      "application/javascript": [
       "if (typeof Jupyter !== \"undefined\") {require.undef(\"nbextensions/vpython_libraries/glow.min\");}else{element.textContent = ' ';}"
      ],
      "text/plain": [
       "<IPython.core.display.Javascript object>"
      ]
     },
     "metadata": {},
     "output_type": "display_data"
    },
    {
     "data": {
      "application/javascript": [
       "if (typeof Jupyter !== \"undefined\") {require.undef(\"nbextensions/vpython_libraries/glowcomm\");}else{element.textContent = ' ';}"
      ],
      "text/plain": [
       "<IPython.core.display.Javascript object>"
      ]
     },
     "metadata": {},
     "output_type": "display_data"
    },
    {
     "data": {
      "application/javascript": [
       "if (typeof Jupyter !== \"undefined\") {require.undef(\"nbextensions/vpython_libraries/jquery-ui.custom.min\");}else{element.textContent = ' ';}"
      ],
      "text/plain": [
       "<IPython.core.display.Javascript object>"
      ]
     },
     "metadata": {},
     "output_type": "display_data"
    },
    {
     "data": {
      "application/javascript": [
       "if (typeof Jupyter !== \"undefined\") {require([\"nbextensions/vpython_libraries/glow.min\"], function(){console.log(\"GLOW LOADED\");});}else{element.textContent = ' ';}"
      ],
      "text/plain": [
       "<IPython.core.display.Javascript object>"
      ]
     },
     "metadata": {},
     "output_type": "display_data"
    },
    {
     "data": {
      "application/javascript": [
       "if (typeof Jupyter !== \"undefined\") {require([\"nbextensions/vpython_libraries/glowcomm\"], function(){console.log(\"GLOWCOMM LOADED\");});}else{element.textContent = ' ';}"
      ],
      "text/plain": [
       "<IPython.core.display.Javascript object>"
      ]
     },
     "metadata": {},
     "output_type": "display_data"
    },
    {
     "data": {
      "application/javascript": [
       "if (typeof Jupyter !== \"undefined\") {require([\"nbextensions/vpython_libraries/jquery-ui.custom.min\"], function(){console.log(\"JQUERY LOADED\");});}else{element.textContent = ' ';}"
      ],
      "text/plain": [
       "<IPython.core.display.Javascript object>"
      ]
     },
     "metadata": {},
     "output_type": "display_data"
    }
   ],
   "source": [
    "# Simple cubic crystal structure\n",
    "\n",
    "canvas()   \n",
    "# create a new vpython \"canvas\" output for this cell \n",
    "\n",
    "L = 3      \n",
    "# number of spheres in system will be (2L + 1)^3\n",
    "\n",
    "size= 0.3 \n",
    "# size of the \"atoms\"\n",
    "\n",
    "\n",
    "# loop over each spatial dimension\n",
    "for i in range(-L, L+1):\n",
    "    for j in range(-L, L+1):\n",
    "        for k in range (-L, L+1):\n",
    "                sphere(pos=vector(i,j,k),radius=size,color=color.green) \n",
    "                # sphere at each point on the lattice grid   "
   ]
  },
  {
   "cell_type": "code",
   "execution_count": 3,
   "metadata": {},
   "outputs": [
    {
     "data": {
      "text/html": [
       "<div id=\"glowscript\" class=\"glowscript\"></div>"
      ],
      "text/plain": [
       "<IPython.core.display.HTML object>"
      ]
     },
     "metadata": {},
     "output_type": "display_data"
    },
    {
     "data": {
      "application/javascript": [
       "if (typeof Jupyter !== \"undefined\") { window.__context = { glowscript_container: $(\"#glowscript\").removeAttr(\"id\")};}else{ element.textContent = ' ';}"
      ],
      "text/plain": [
       "<IPython.core.display.Javascript object>"
      ]
     },
     "metadata": {},
     "output_type": "display_data"
    }
   ],
   "source": [
    "# Simple cubic crystal structure\n",
    "\n",
    "canvas()   \n",
    "# create a new vpython \"canvas\" output for this cell \n",
    "\n",
    "L = 3     \n",
    "# number of spheres in system will be (2L + 1)^3\n",
    "\n",
    "size_Cl= 0.25 \n",
    "size_Na = 0.15\n",
    "# size of the \"atoms\"\n",
    "\n",
    "# loop over each spatial dimension\n",
    "for i in range(-L, L+1):\n",
    "    for j in range(-L, L+1):\n",
    "        for k in range (-L, L+1):\n",
    "            N= i+j+k   \n",
    "            \n",
    "            if i == j == k == 0:\n",
    "                central= sphere(pos=vector(i,j,k),radius=size_Na,color=color.white) \n",
    "                # sphere at centre  \n",
    "                    \n",
    "            elif (N % 2) == 0:\n",
    "                Na= sphere(pos=vector(i,j,k),radius=size_Na,color=color.orange) \n",
    "                # sphere at which i+j+k is even, sodium atoms\n",
    "                \n",
    "            elif (N % 2) != 0:\n",
    "                Cl= sphere(pos=vector(i,j,k),radius=size_Cl,color=color.yellow) \n",
    "                # sphere at which i+j+k is odd, chlorine atoms     "
   ]
  },
  {
   "cell_type": "markdown",
   "metadata": {
    "collapsed": true
   },
   "source": [
    "## Electric potential\n",
    "\n",
    "Sodium Chloride is an ionic solid, in which the entities are ions rather than neutral atoms.  Each sodium ion will have a charge $+e$, and each chlorine ion $-e$. \n",
    "\n",
    "We're going to consider the total electric potential $V$ that each atom/ion in the NaCl crystal feels. The total potential will then depend on the charges and positions of the nearby atoms.\n",
    "\n",
    "Consider the electric potential between the centre (white) sodium ion and just one of the other ions in the crystal model.\n",
    "The electric potential energy will be given by:\n",
    " $$ U = \\frac{1}{4\\pi \\varepsilon_0} \\frac{q_1 q_2}{r} $$\n",
    " \n",
    "where $q_1$, $q_2$ are the charges of the two objects and $r$ the length of the vector between them. Here $q_1$ will be the charge of the central sodium atom (which we are considering as if it were a point charge), $+e$, and $q_2$ will be the charge of the other atom, which will be either $+e$ or $-e$, depending on whether it is a sodium or chlorine ion.\n",
    "\n",
    "The electric potential around the central Na ion will be the electric potential energy per unit charge, i.e.\n",
    " $$ V = \\frac{U}{e} = \\frac{1}{4\\pi \\varepsilon_0} \\frac{\\pm e}{r}$$\n",
    "\n",
    "We need to know $r = |\\mathbf{r}|$, so the next thing to do is to calculate $\\mathbf{r}$, the vector between the central Na ion and one of the other ions."
   ]
  },
  {
   "cell_type": "markdown",
   "metadata": {},
   "source": [
    "<div class=\"alert alert-success\">\n",
    "<b>TASK PART 2:</b> Copy and paste your code cell for Part 1 into the code cell below. Now edit it to draw a representation of the vector $\\mathbf{r}$ between the central sodium ion and the ion at $i = 2, j = -3, k = +3$. Use  a vpython \"arrow\" object for this. \n",
    "  <br><br>  Is this ion a sodium or a chlorine ion? Will the potential felt by the central Na ion due to this ion be positive or negative?\n",
    "<br><br>\n",
    "Now also include a vpython representation of the vector from the central Na ion to the ion at $i = -3, j = +2, k = +2$. Is this ion a sodium or a chlorine ion? Will the potential felt by the central Na ion due to this ion be positive or negative?  \n",
    " <br><br>   Use the text cell below the code cell to complete your answer.</div>"
   ]
  },
  {
   "cell_type": "code",
   "execution_count": 4,
   "metadata": {},
   "outputs": [
    {
     "data": {
      "text/html": [
       "<div id=\"glowscript\" class=\"glowscript\"></div>"
      ],
      "text/plain": [
       "<IPython.core.display.HTML object>"
      ]
     },
     "metadata": {},
     "output_type": "display_data"
    },
    {
     "data": {
      "application/javascript": [
       "if (typeof Jupyter !== \"undefined\") { window.__context = { glowscript_container: $(\"#glowscript\").removeAttr(\"id\")};}else{ element.textContent = ' ';}"
      ],
      "text/plain": [
       "<IPython.core.display.Javascript object>"
      ]
     },
     "metadata": {},
     "output_type": "display_data"
    }
   ],
   "source": [
    "# Simple cubic crystal structure\n",
    "\n",
    "canvas()   \n",
    "# create a new vpython \"canvas\" output for this cell \n",
    "\n",
    "L = 3            \n",
    "# number of spheres in system will be (2L + 1)^3\n",
    "\n",
    "size_Cl= 0.25 \n",
    "size_Na = 0.15\n",
    "# size of the \"atoms\"\n",
    "\n",
    "# loop over each spatial dimension\n",
    "for i in range(-L, L+1):\n",
    "    for j in range(-L, L+1):\n",
    "        for k in range (-L, L+1):\n",
    "            N= i+j+k   \n",
    "            \n",
    "            if i == j == k == 0:\n",
    "                central= sphere(pos=vector(i,j,k),radius=size_Na,color=color.white) \n",
    "                # sphere at centre  \n",
    "                    \n",
    "            elif (N % 2) == 0:\n",
    "                Na= sphere(pos=vector(i,j,k),radius=size_Na,color=color.orange) \n",
    "                # sphere at which i+j+k is even, sodium atoms\n",
    "                \n",
    "            elif (N % 2) != 0:\n",
    "                Cl= sphere(pos=vector(i,j,k),radius=size_Cl,color=color.yellow) \n",
    "                # sphere at which i+j+k is odd, chlorine atoms \n",
    "                \n",
    "\n",
    "r1 = arrow(pos= central.pos, axis = ( vector(-3,2,2) - central.pos), shaftwidth= 0.05, color=color.white) \n",
    "# arrow to represent vector from centre to (-3,2,2)\n",
    "\n",
    "r2 = arrow(pos= central.pos, axis = ( vector(2,-3,3) - central.pos), shaftwidth= 0.05, color=color.green) \n",
    "# arrow to represent vector from centre to (2,-3,3)"
   ]
  },
  {
   "cell_type": "markdown",
   "metadata": {},
   "source": [
    "STUDENT COMPLETED MARKDOWN CELL:\n",
    "\n",
    "* The ion at $i = 2, j = -3, k = +3$ is a **Sodium** ion and the central Na ion will feel a **POSITIVE** potential due to this ion.\n",
    "\n",
    "* The ion at $i = -3, j = +2, k = +2$ is a **Chlorine** ion and the central Na ion will feel a **NEGATIVE** potential due to this ion.\n",
    "    "
   ]
  },
  {
   "cell_type": "markdown",
   "metadata": {},
   "source": [
    "## The Madelung sum\n",
    "\n",
    "Now we can start to see how each of the ions in our crystal model will contribute to the total potential that the central atom feels. We'll need to calculate a sum over all the other ions in the crystal, and add their contribution to the total potential. We can write this as:\n",
    "\n",
    "$$ V_\\text{total} = \\frac{1}{4\\pi\\varepsilon_0} \\sum_{i,j,k= -L (i,j,k, \\neq 0)}^L \\frac{\\pm e}{ a \\sqrt{i^2 + j^2 + k^2}}. $$\n",
    "\n",
    "The value $a$ in the denominator is the actual separation between the ions in the crystal. In a typical crystal with this structure, the interatomic spacing is about 0.5 nm.\n",
    "\n",
    "We can express this more concisely as\n",
    "\n",
    "$$ V_\\text{total} = \\frac{e}{4\\pi\\varepsilon_0 a} M $$\n",
    "\n",
    "where $M$ is the Madelung sum,\n",
    "\n",
    "$$ M = \\sum_{i,j,k= -L (i,j,k, \\neq 0)}^L \\frac{\\pm 1}{ \\sqrt{i^2 + j^2 + k^2}}. $$\n",
    "\n",
    "The Madelung sum is what you're going to calculate now. Hopefully you'll have spotted that, conveniently, we've already got the code structure in place for the triple summation over values of $i, j,$ and $k$."
   ]
  },
  {
   "cell_type": "markdown",
   "metadata": {},
   "source": [
    "<div class=\"alert alert-success\">\n",
    "    <b>TASK PART 3a:</b> \n",
    "\n",
    "Copy and paste your working code from Part 2 into the first code cell below. Then use this to:\n",
    "\n",
    "<ol> \n",
    "<li> Further adapt your code above to calculate the Madelung sum $M$ for this crystal model,  and output the result (together with all appropriate units). </li>\n",
    "<li>Try increasing the value of $L$ in your code. Do you encounter any problems? [Hint: if your code gets stuck, press the stop button to interrupt the kernel. It's also an idea to restart the kernel, clearing all output, before rerunning your code]. Describe this briefly in the text cell below, then reset L to 3 and rerun.</li>\n",
    "\n",
    "</ol>\n",
    "</div>"
   ]
  },
  {
   "cell_type": "code",
   "execution_count": 8,
   "metadata": {},
   "outputs": [
    {
     "data": {
      "text/html": [
       "<div id=\"glowscript\" class=\"glowscript\"></div>"
      ],
      "text/plain": [
       "<IPython.core.display.HTML object>"
      ]
     },
     "metadata": {},
     "output_type": "display_data"
    },
    {
     "data": {
      "application/javascript": [
       "if (typeof Jupyter !== \"undefined\") { window.__context = { glowscript_container: $(\"#glowscript\").removeAttr(\"id\")};}else{ element.textContent = ' ';}"
      ],
      "text/plain": [
       "<IPython.core.display.Javascript object>"
      ]
     },
     "metadata": {},
     "output_type": "display_data"
    },
    {
     "name": "stdout",
     "output_type": "stream",
     "text": [
      "Calculated Madelung sum M: -1.9125039789591567 \n"
     ]
    }
   ],
   "source": [
    "# Simple cubic crystal structure\n",
    "\n",
    "canvas()   \n",
    "# create a new vpython \"canvas\" output for this cell \n",
    "\n",
    "L = 3    \n",
    "# number of spheres in system will be (2L + 1)^3\n",
    "\n",
    "size_Cl= 0.25 \n",
    "size_Na = 0.15\n",
    "# size of the \"atoms\"\n",
    "\n",
    "M1=0\n",
    "#Initialises Madelung Sum\n",
    "\n",
    "# loop over each spatial dimension\n",
    "for i in range(-L, L+1):\n",
    "    for j in range(-L, L+1):\n",
    "        for k in range (-L, L+1):\n",
    "            N= i+j+k   \n",
    "            \n",
    "            if i == j == k == 0:\n",
    "                central= sphere(pos=vector(i,j,k),radius=size_Na,color=color.white) \n",
    "                # sphere at centre  \n",
    "                \n",
    "                M=0\n",
    "                M1= M1+M\n",
    "                # removes i=j=k=0 values from sum as can not divid by 0\n",
    "                \n",
    "            elif (N % 2) == 0:\n",
    "                Na= sphere(pos=vector(i,j,k),radius=size_Na,color=color.orange) \n",
    "                # sphere at which i+j+k is even, sodium atoms\n",
    "                \n",
    "                M= ( (-1)**(i+j+k) )/np.sqrt( i**2 + j**2+ k**2 )\n",
    "                M1= M1+M\n",
    "                #Adds to summation for corresponding ijk values\n",
    "                \n",
    "            elif (N % 2) != 0:\n",
    "                Cl= sphere(pos=vector(i,j,k),radius=size_Cl,color=color.yellow) \n",
    "                # sphere at which i+j+k is odd, chlorine atoms     \n",
    "                \n",
    "                M= ( (-1)**(i+j+k) )/np.sqrt( i**2 + j**2+ k**2 )\n",
    "                M1= M1+M\n",
    "                #Adds to summation for corresponding ijk values\n",
    "\n",
    "print(\"Calculated Madelung sum M:\", M1, \"\")"
   ]
  },
  {
   "cell_type": "markdown",
   "metadata": {},
   "source": [
    "#### Comment:\n",
    "As L is increased the code slows and becomes impractical, to the point of not working; this is as the L increases the number of terms in the sum increase to a cubic function $ (2L + 1)^3 $, this means the loop has to repeat a large number of times to complete the summation. Moreover, the code is also outputting so many spheres that its impactical to veiw and to output, the kernal has so much data it can also slows the whole notebook- it crashed my notebook at 100, although was able to complete the summation first so the biggest factor would be creating that many spheres.\n",
    "\n",
    "NO UNITS GIVEN AS WE USING UNIT VECTORS"
   ]
  },
  {
   "cell_type": "markdown",
   "metadata": {},
   "source": [
    "<div class=\"alert alert-success\">\n",
    "    <b>TASK PART 3b:</b> \n",
    "\n",
    "Finally, copy and paste your completed code into the code cell below. \n",
    "<br><b>Comment/edit out all the vpython drawing commands</b>, set $L$ to 100, and output this value of M. _Roughly_ estimate how long this takes to calculate. For an infinite (i.e. when $L = \\infty$) NaCl structure crystal, the value of $M$ is $\\sim -1.748$. How do your values compare? Discuss in a text cell.\n",
    "\n",
    "</div>"
   ]
  },
  {
   "cell_type": "code",
   "execution_count": 9,
   "metadata": {},
   "outputs": [
    {
     "name": "stdout",
     "output_type": "stream",
     "text": [
      "Calculated Madelung sum: -1.7418198158396654\n",
      "Time taken to run: 46.15253448486328 s\n"
     ]
    }
   ],
   "source": [
    "import time                                 \n",
    "# imports time parameter\n",
    "\n",
    "L = 100\n",
    "# number of spheres in system will be (2L + 1)^3\n",
    "M1=0\n",
    "\n",
    "t1= time.time()                                 \n",
    "# sets begining time marker\n",
    "\n",
    "# loop over each spatial dimension\n",
    "for i in range(-L, L+1):\n",
    "    for j in range(-L, L+1):\n",
    "        for k in range (-L, L+1):\n",
    "            #print(i,j,k)  \n",
    "            if i == j == k == 0:  \n",
    "                M=0\n",
    "                #print(M)\n",
    "                M1= M1+M\n",
    "                \n",
    "            else:\n",
    "                M= ( (-1)**(i+j+k) )/np.sqrt( i**2 + j**2+ k**2 )\n",
    "                #print(M)\n",
    "                M1= M1+M\n",
    "                \n",
    "t2= time.time()                                 \n",
    "# sets end time marker\n",
    "\n",
    "T= t2-t1\n",
    "#gives time taken by sbtracting final time with initial\n",
    "\n",
    "print(\"Calculated Madelung sum:\", M1)\n",
    "print(\"Time taken to run:\",T, \"s\")"
   ]
  },
  {
   "cell_type": "markdown",
   "metadata": {},
   "source": [
    "#### Comments:\n",
    "\n",
    "Time taken for L=100 was 19s. The value for M was -1.7418.. This is equal to the infinite approximation up to  2dp, for L=200 time was 151s and M= 1.7446.. we can see the time take when L is doubled, increases by a 2^3. Moreover, we see the convergence is fairly slow as many terms will be needed to get to -1.748 for 3dp. Given the rate of increase of time of the summation, this would be impactical method for large values of L"
   ]
  },
  {
   "cell_type": "code",
   "execution_count": null,
   "metadata": {},
   "outputs": [],
   "source": []
  }
 ],
 "metadata": {
  "anaconda-cloud": {},
  "kernelspec": {
   "display_name": "Python 3",
   "language": "python",
   "name": "python3"
  },
  "language_info": {
   "codemirror_mode": {
    "name": "ipython",
    "version": 3
   },
   "file_extension": ".py",
   "mimetype": "text/x-python",
   "name": "python",
   "nbconvert_exporter": "python",
   "pygments_lexer": "ipython3",
   "version": "3.7.3"
  }
 },
 "nbformat": 4,
 "nbformat_minor": 1
}
