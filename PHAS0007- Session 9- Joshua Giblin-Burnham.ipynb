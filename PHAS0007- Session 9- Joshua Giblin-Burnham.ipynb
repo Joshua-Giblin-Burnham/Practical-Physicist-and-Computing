{
 "cells": [
  {
   "cell_type": "markdown",
   "metadata": {},
   "source": [
    "## Session 9: Joshua Giblin-Burnham"
   ]
  },
  {
   "cell_type": "markdown",
   "metadata": {},
   "source": [
    "We are modelling gravitational attraction on planets using Newtonian gravity, the change in a planets velocity and displacement are calculated, given our starting point of the initial position and velocity of the planet, and a fixed timestep $\\delta t$, with the following equations:\n",
    "\n",
    "$$\\mathbf{r}(t + \\delta t)  = \\mathbf{r}(t) + \\delta \\mathbf{r} $$\n",
    "\n",
    "$$ \\qquad  \\qquad = \\mathbf{r}(t) + \\mathbf{v} \\delta t $$\n",
    "\n",
    "$$ \\mathbf{v}(t + \\delta t)  = \\mathbf{v}(t) + \\delta \\mathbf{v} $$\n",
    "\n",
    "$$  \\qquad \\qquad = \\mathbf{v}(t) - \\frac{GM \\mathbf{r}}{|\\mathbf{r|^3}} \\delta t =  \\mathbf{v}(t) - \\frac{GM \\hat{\\mathbf{r}}}{|\\mathbf{r|^2}} \\delta t$$\n",
    "\n",
    "These can be looped for multiple interaction as the force from each body is a vectors there for any interaction can just be the sum in change in position and velocity. These also take into account the mass, distance and gravitational constant, by altering these we can see stable configurations and with more bodies we can see how sensitive the system is to change.\n"
   ]
  },
  {
   "cell_type": "code",
   "execution_count": 1,
   "metadata": {},
   "outputs": [
    {
     "data": {
      "text/html": [
       "<div id=\"glowscript\" class=\"glowscript\"></div>"
      ],
      "text/plain": [
       "<IPython.core.display.HTML object>"
      ]
     },
     "metadata": {},
     "output_type": "display_data"
    },
    {
     "data": {
      "application/javascript": [
       "if (typeof Jupyter !== \"undefined\") { window.__context = { glowscript_container: $(\"#glowscript\").removeAttr(\"id\")};}else{ element.textContent = ' ';}"
      ],
      "text/plain": [
       "<IPython.core.display.Javascript object>"
      ]
     },
     "metadata": {},
     "output_type": "display_data"
    }
   ],
   "source": [
    "from vpython import sphere, vector, rate, mag, canvas, arrow, cylinder, color\n",
    "# import libraries"
   ]
  },
  {
   "cell_type": "markdown",
   "metadata": {},
   "source": [
    "##### Initial system:\n",
    "This initial model has a fixed sun with inputs for planet distance and velocity and the stars mass, by changing conditions we can see how they effect the orbit. Only certain conditions give rise to stable orbits. the vector arrow shows a scaled direction vector of the force, its length is a scaled magnitude of force."
   ]
  },
  {
   "cell_type": "code",
   "execution_count": 5,
   "metadata": {},
   "outputs": [
    {
     "data": {
      "text/html": [
       "<div id=\"glowscript\" class=\"glowscript\"></div>"
      ],
      "text/plain": [
       "<IPython.core.display.HTML object>"
      ]
     },
     "metadata": {},
     "output_type": "display_data"
    },
    {
     "data": {
      "application/javascript": [
       "if (typeof Jupyter !== \"undefined\") { window.__context = { glowscript_container: $(\"#glowscript\").removeAttr(\"id\")};}else{ element.textContent = ' ';}"
      ],
      "text/plain": [
       "<IPython.core.display.Javascript object>"
      ]
     },
     "metadata": {},
     "output_type": "display_data"
    },
    {
     "name": "stdout",
     "output_type": "stream",
     "text": [
      "Input the initial mass of sun relative to earth: 700\n",
      "Input the initial distance of earth, arb: 46\n",
      "Input the initial velocity of earth, arb: 78\n"
     ]
    },
    {
     "ename": "KeyboardInterrupt",
     "evalue": "",
     "output_type": "error",
     "traceback": [
      "\u001b[1;31m---------------------------------------------------------------------------\u001b[0m",
      "\u001b[1;31mKeyboardInterrupt\u001b[0m                         Traceback (most recent call last)",
      "\u001b[1;32m<ipython-input-5-7f96f2d8c53d>\u001b[0m in \u001b[0;36m<module>\u001b[1;34m\u001b[0m\n\u001b[0;32m     40\u001b[0m \u001b[1;32mwhile\u001b[0m \u001b[0mstep\u001b[0m \u001b[1;33m<=\u001b[0m \u001b[0mmaxstep\u001b[0m\u001b[1;33m:\u001b[0m\u001b[1;33m\u001b[0m\u001b[1;33m\u001b[0m\u001b[0m\n\u001b[0;32m     41\u001b[0m \u001b[1;33m\u001b[0m\u001b[0m\n\u001b[1;32m---> 42\u001b[1;33m     \u001b[0mrate\u001b[0m\u001b[1;33m(\u001b[0m\u001b[1;36m50\u001b[0m\u001b[1;33m)\u001b[0m\u001b[1;33m\u001b[0m\u001b[1;33m\u001b[0m\u001b[0m\n\u001b[0m\u001b[0;32m     43\u001b[0m \u001b[1;33m\u001b[0m\u001b[0m\n\u001b[0;32m     44\u001b[0m     \u001b[0mr\u001b[0m\u001b[1;33m=\u001b[0m \u001b[0mr\u001b[0m \u001b[1;33m+\u001b[0m \u001b[0mv\u001b[0m\u001b[1;33m*\u001b[0m\u001b[0mdt\u001b[0m\u001b[1;33m\u001b[0m\u001b[1;33m\u001b[0m\u001b[0m\n",
      "\u001b[1;32m~\\Anaconda3\\lib\\site-packages\\vpython\\rate_control.py\u001b[0m in \u001b[0;36m__call__\u001b[1;34m(self, N)\u001b[0m\n\u001b[0;32m    258\u001b[0m         \u001b[0mself\u001b[0m\u001b[1;33m.\u001b[0m\u001b[0mrval\u001b[0m \u001b[1;33m=\u001b[0m \u001b[0mN\u001b[0m\u001b[1;33m\u001b[0m\u001b[1;33m\u001b[0m\u001b[0m\n\u001b[0;32m    259\u001b[0m         \u001b[1;32mif\u001b[0m \u001b[0mself\u001b[0m\u001b[1;33m.\u001b[0m\u001b[0mrval\u001b[0m \u001b[1;33m<\u001b[0m \u001b[1;36m1\u001b[0m\u001b[1;33m:\u001b[0m \u001b[1;32mraise\u001b[0m \u001b[0mValueError\u001b[0m\u001b[1;33m(\u001b[0m\u001b[1;34m\"rate value must be greater than or equal to 1\"\u001b[0m\u001b[1;33m)\u001b[0m\u001b[1;33m\u001b[0m\u001b[1;33m\u001b[0m\u001b[0m\n\u001b[1;32m--> 260\u001b[1;33m         \u001b[0msuper\u001b[0m\u001b[1;33m(\u001b[0m\u001b[0m_RateKeeper2\u001b[0m\u001b[1;33m,\u001b[0m \u001b[0mself\u001b[0m\u001b[1;33m)\u001b[0m\u001b[1;33m.\u001b[0m\u001b[0m__call__\u001b[0m\u001b[1;33m(\u001b[0m\u001b[0mself\u001b[0m\u001b[1;33m.\u001b[0m\u001b[0mrval\u001b[0m\u001b[1;33m)\u001b[0m \u001b[1;31m## calls __call__ in rate_control.py\u001b[0m\u001b[1;33m\u001b[0m\u001b[1;33m\u001b[0m\u001b[0m\n\u001b[0m\u001b[0;32m    261\u001b[0m \u001b[1;33m\u001b[0m\u001b[0m\n\u001b[0;32m    262\u001b[0m \u001b[1;33m\u001b[0m\u001b[0m\n",
      "\u001b[1;32m~\\Anaconda3\\lib\\site-packages\\vpython\\rate_control.py\u001b[0m in \u001b[0;36m__call__\u001b[1;34m(self, maxRate)\u001b[0m\n\u001b[0;32m    212\u001b[0m             \u001b[0mdt\u001b[0m \u001b[1;33m=\u001b[0m \u001b[0mself\u001b[0m\u001b[1;33m.\u001b[0m\u001b[0mlastSleep\u001b[0m \u001b[1;33m+\u001b[0m \u001b[0mself\u001b[0m\u001b[1;33m.\u001b[0m\u001b[0mcalls\u001b[0m\u001b[1;33m*\u001b[0m\u001b[1;33m(\u001b[0m\u001b[0mself\u001b[0m\u001b[1;33m.\u001b[0m\u001b[0muserTime\u001b[0m \u001b[1;33m+\u001b[0m \u001b[0mself\u001b[0m\u001b[1;33m.\u001b[0m\u001b[0mcallTime\u001b[0m \u001b[1;33m+\u001b[0m \u001b[0mself\u001b[0m\u001b[1;33m.\u001b[0m\u001b[0mdelay\u001b[0m\u001b[1;33m)\u001b[0m \u001b[1;33m+\u001b[0m\u001b[0;31m \u001b[0m\u001b[0;31m\\\u001b[0m\u001b[1;33m\u001b[0m\u001b[1;33m\u001b[0m\u001b[0m\n\u001b[0;32m    213\u001b[0m                  \u001b[0mrenders\u001b[0m\u001b[1;33m*\u001b[0m\u001b[0mself\u001b[0m\u001b[1;33m.\u001b[0m\u001b[0mrenderTime\u001b[0m \u001b[1;33m+\u001b[0m \u001b[0msleeps\u001b[0m\u001b[1;33m*\u001b[0m\u001b[0mself\u001b[0m\u001b[1;33m.\u001b[0m\u001b[0minteractionPeriod\u001b[0m \u001b[1;33m-\u001b[0m \u001b[0m_clock\u001b[0m\u001b[1;33m(\u001b[0m\u001b[1;33m)\u001b[0m\u001b[1;33m\u001b[0m\u001b[1;33m\u001b[0m\u001b[0m\n\u001b[1;32m--> 214\u001b[1;33m             \u001b[0m_sleep\u001b[0m\u001b[1;33m(\u001b[0m\u001b[0mdt\u001b[0m\u001b[1;33m)\u001b[0m\u001b[1;33m\u001b[0m\u001b[1;33m\u001b[0m\u001b[0m\n\u001b[0m\u001b[0;32m    215\u001b[0m             \u001b[0mself\u001b[0m\u001b[1;33m.\u001b[0m\u001b[0mlastSleep\u001b[0m \u001b[1;33m=\u001b[0m \u001b[0m_clock\u001b[0m\u001b[1;33m(\u001b[0m\u001b[1;33m)\u001b[0m\u001b[1;33m\u001b[0m\u001b[1;33m\u001b[0m\u001b[0m\n\u001b[0;32m    216\u001b[0m             \u001b[0mself\u001b[0m\u001b[1;33m.\u001b[0m\u001b[0mcalls\u001b[0m \u001b[1;33m=\u001b[0m \u001b[1;36m0\u001b[0m\u001b[1;33m\u001b[0m\u001b[1;33m\u001b[0m\u001b[0m\n",
      "\u001b[1;32m~\\Anaconda3\\lib\\site-packages\\vpython\\rate_control.py\u001b[0m in \u001b[0;36m_sleep\u001b[1;34m(dt)\u001b[0m\n\u001b[0;32m     54\u001b[0m         \u001b[0mdtsleep\u001b[0m \u001b[1;33m=\u001b[0m \u001b[0mnticks\u001b[0m\u001b[1;33m*\u001b[0m\u001b[0m_tick\u001b[0m\u001b[1;33m\u001b[0m\u001b[1;33m\u001b[0m\u001b[0m\n\u001b[0;32m     55\u001b[0m         \u001b[0mt\u001b[0m \u001b[1;33m=\u001b[0m \u001b[0m_clock\u001b[0m\u001b[1;33m(\u001b[0m\u001b[1;33m)\u001b[0m\u001b[1;33m\u001b[0m\u001b[1;33m\u001b[0m\u001b[0m\n\u001b[1;32m---> 56\u001b[1;33m         \u001b[0mtime\u001b[0m\u001b[1;33m.\u001b[0m\u001b[0msleep\u001b[0m\u001b[1;33m(\u001b[0m\u001b[0mdtsleep\u001b[0m\u001b[1;33m)\u001b[0m\u001b[1;33m\u001b[0m\u001b[1;33m\u001b[0m\u001b[0m\n\u001b[0m\u001b[0;32m     57\u001b[0m         \u001b[0mt\u001b[0m \u001b[1;33m=\u001b[0m \u001b[0m_clock\u001b[0m\u001b[1;33m(\u001b[0m\u001b[1;33m)\u001b[0m\u001b[1;33m-\u001b[0m\u001b[0mt\u001b[0m\u001b[1;33m\u001b[0m\u001b[1;33m\u001b[0m\u001b[0m\n\u001b[0;32m     58\u001b[0m         \u001b[0mdt\u001b[0m \u001b[1;33m-=\u001b[0m \u001b[0mt\u001b[0m\u001b[1;33m\u001b[0m\u001b[1;33m\u001b[0m\u001b[0m\n",
      "\u001b[1;31mKeyboardInterrupt\u001b[0m: "
     ]
    }
   ],
   "source": [
    "# initial code\n",
    "\n",
    "canvas(width = 640, height = 480) \n",
    "\n",
    "#  Define the star, planets and constants\n",
    "\n",
    "M = float(input(\"Input the initial mass of sun relative to earth: \"))      \n",
    "# allows input for suns mass relative to planet, recommend 1000\n",
    "\n",
    "m = 1       \n",
    "# mass of planet\n",
    "\n",
    "G=1\n",
    "# set gravitational constant, units of mass are arbitary such that G is 1\n",
    "\n",
    "r = vector(0,float(input(\"Input the initial distance of earth, arb: \")),0)              \n",
    "# input initial position vector of Planet, recomend 1-3\n",
    "\n",
    "v= vector(float(input(\"Input the initial velocity of earth, arb: \")), 0, 0)               \n",
    "# input initial velocity of Planet, recommend 25-35\n",
    "\n",
    "\n",
    "planet = sphere(pos=r,radius=0.05*m,color=color.blue,make_trail=True)\n",
    "planet.trail_color = planet.color\n",
    "# creates planet and trail\n",
    "\n",
    "star = sphere(pos=vector(0,0,0),radius= 0.1,color=color.yellow)\n",
    "# create star\n",
    "\n",
    "force= arrow(pos= planet.pos, axis = (-planet.pos), shaftwidth=0.035, color=color.white) \n",
    "#creates force vector arrow\n",
    "\n",
    "t=0\n",
    "step = 1\n",
    "dt = 0.0001      \n",
    "step = 1       \n",
    "maxstep = 2000\n",
    "# initalises t and steps, sets maximum number of step and dt value\n",
    "\n",
    "while step <= maxstep:\n",
    "    \n",
    "    rate(50)\n",
    " \n",
    "    r= r + v*dt\n",
    "    # calculates change in pos\n",
    "    \n",
    "    Ag=(-G*M*r)/((mag(r))**3)\n",
    "    # calculates acceleration due to gravity from star\n",
    "    \n",
    "    v= v + Ag*dt\n",
    "    # calculates change in velocty du to gravitational acceleration\n",
    "    \n",
    "    planet.pos = vector(r) \n",
    "    #sets new planet position\n",
    "    \n",
    "    force.pos=r\n",
    "    force.axis = -(r*mag(r))*(G*M/mag(r)**3)/M \n",
    "    #calculates unit vector of direction of force,multiply by magnitude of force scaled by suns mass\n",
    "     \n",
    "    step= step + 1\n",
    "    # sums no. of steps\n",
    "\n",
    "print(\"end of program\")"
   ]
  },
  {
   "cell_type": "markdown",
   "metadata": {},
   "source": [
    "##### A 2 body system:\n",
    "This system has two planets, the inputs are fixed as it is very sensitive to change. Inaddition, the model has interactions with star, this gives it a wobble as the planets mass acts on the star. This code defines a function for the  acceleration, and inbedded `for` loops. The function returns the acceleration for a given object due to an other object, this function works with the for lop to repeat `for` each combination of planets. The `for` takes each element of the `bodies` list (`for body1 in bodies`) and calculates the change in velocity due to the attraction with of each other bodies( `for body2 in bodies` ), another `for` loop is then used to update each bodies change in position."
   ]
  },
  {
   "cell_type": "code",
   "execution_count": null,
   "metadata": {},
   "outputs": [],
   "source": [
    "# code for two planets\n",
    "\n",
    "canvas(width = 640, height = 480) \n",
    "\n",
    "# base values of earth to scale rest of solar system\n",
    "\n",
    "m = 1\n",
    "# mass\n",
    "v = 40\n",
    "# velocity\n",
    "r = 0.05\n",
    "# radius\n",
    "d = 3.5\n",
    "#distance to sun\n",
    "\n",
    "G = 1\n",
    "# set gravitational constant, units of mass are arbitary such that G is 1\n",
    "\n",
    "\n",
    "# solar system planets, values set relative to earth\n",
    "sun = sphere(pos= vector(0,0,0), radius= 10*r, color=color.yellow , mass=5000*m, make_trail=True)\n",
    "earth = sphere(pos= vector(0,d,0), radius=r, color=color.blue, mass=29*m, make_trail=True)\n",
    "mars = sphere(pos=vector(0,1.5*d,0 ), radius=r, color=color.red, mass= 2*m, make_trail=True)\n",
    "\n",
    "# initial velocities\n",
    "sun.v = vector(0, 0, 0)\n",
    "earth.v = vector(v, 0, 0)\n",
    "mars.v = vector(0.8*v, 0, 0)\n",
    "\n",
    "\n",
    "bodies= (sun, earth, mars )\n",
    "# creates list of stellar bodies\n",
    "\n",
    "for body in bodies:\n",
    "    body.trail_color = body.color\n",
    "    #adds trails for each body\n",
    "\n",
    "dt = 0.0001\n",
    "t = 0\n",
    "step=0\n",
    "maxstep= 16000 \n",
    "# initalises t and steps, sets maximum number of step and dt value\n",
    "\n",
    "def acc(body1, body2):\n",
    "    ''' acceleration due to gravitational force '''\n",
    "    r = body1.pos - body2.pos\n",
    "    a = -((G * body2.mass* r) / mag(r)**3 )\n",
    "    return a\n",
    "# creates function which calculates gravitational acceleration of two given bodies\n",
    "\n",
    "while step <= maxstep:\n",
    "    rate(500)\n",
    "    \n",
    "    for body1 in bodies:\n",
    "        for body2 in bodies:\n",
    "            if body1 != body2: # stops executing for planet on itself\n",
    "                body1.v= body1.v + acc(body1, body2)*dt            \n",
    "    # for each planet in list it calculates change in velocity due to other planets using acceleration function, \n",
    "    # sun moves too\n",
    "\n",
    "    for body in bodies:\n",
    "        body.pos= body.pos + body.v*dt\n",
    "    # updates position of the objects in the loop\n",
    "    \n",
    "    step= step + 1\n",
    "    # sums steps\n",
    "\n",
    "print(\"end of program\")"
   ]
  },
  {
   "cell_type": "markdown",
   "metadata": {},
   "source": [
    "##### A 3 body system:\n",
    "This uses same code as a 2 body system, however, to get a moon orbiting the initial conditions are very specific as it mus orbit the earth  and sun. To simply this the suns position is locked by usinf if statement in for loop `if body1 != sun:`"
   ]
  },
  {
   "cell_type": "code",
   "execution_count": null,
   "metadata": {},
   "outputs": [
    {
     "data": {
      "text/html": [
       "<div id=\"glowscript\" class=\"glowscript\"></div>"
      ],
      "text/plain": [
       "<IPython.core.display.HTML object>"
      ]
     },
     "metadata": {},
     "output_type": "display_data"
    },
    {
     "data": {
      "application/javascript": [
       "if (typeof Jupyter !== \"undefined\") { window.__context = { glowscript_container: $(\"#glowscript\").removeAttr(\"id\")};}else{ element.textContent = ' ';}"
      ],
      "text/plain": [
       "<IPython.core.display.Javascript object>"
      ]
     },
     "metadata": {},
     "output_type": "display_data"
    }
   ],
   "source": [
    "# code for two planets and moon\n",
    "\n",
    "canvas(width = 640, height = 480) \n",
    "\n",
    "# base values of earth to scale rest of solar system\n",
    "\n",
    "m = 1\n",
    "# mass \n",
    "v = 40\n",
    "# velocity\n",
    "r = 0.05\n",
    "# radius\n",
    "d = 3.5\n",
    "#distance to sun\n",
    "\n",
    "G = 1\n",
    "# set gravitational constant, units of mass are arbitary such that G is 1\n",
    "\n",
    "\n",
    "# solar system planets, values set relative to earth\n",
    "sun = sphere(pos= vector(0,0,0), radius= 10*r, color=color.yellow , mass=5000*m, make_trail=True)\n",
    "earth = sphere(pos= vector(0,d,0), radius= r, color=color.blue, mass=50*m, make_trail=True)\n",
    "mars = sphere(pos=vector(0,1.5*d,0 ), radius=r, color=color.red, mass= 2*m, make_trail=True)\n",
    "moon = sphere(pos=vector(0,d+0.05,0 ), radius=0.1*r, color=color.white, mass=0.01*m, make_trail=True)\n",
    "\n",
    "# initial velocities\n",
    "sun.v = vector(0, 0, 0)\n",
    "earth.v = vector(v, 0, 0)\n",
    "mars.v = vector(0.8*v, 0, 0)\n",
    "moon.v = vector(0.4*v,0,0)\n",
    "\n",
    "bodies= (sun, earth, moon, mars )\n",
    "# creates list of stellar bodies\n",
    "\n",
    "for body in bodies:\n",
    "    body.trail_color = body.color\n",
    "    #adds trails for each body\n",
    "\n",
    "dt = 0.00001\n",
    "t = 0\n",
    "step=0\n",
    "maxstep=100000 \n",
    "# initalises t and steps, sets maximum number of step and dt value\n",
    "\n",
    "def acc(body1, body2):\n",
    "    ''' acceleration due to gravitational force '''\n",
    "    r = body1.pos - body2.pos\n",
    "    a = -((G * body2.mass* r) / mag(r)**3 )\n",
    "    return a\n",
    "# creates function which calculates gravitational acceleration of two given bodies\n",
    "\n",
    "while step <= maxstep:\n",
    "    rate(500)\n",
    "    \n",
    "    for body1 in bodies:\n",
    "        for body2 in bodies:\n",
    "            if body1 != body2: # stops executing for planet on it self\n",
    "                if body1 != sun: # stops executing for sun, so sun stationary\n",
    "                    body1.v= body1.v + acc(body1, body2)*dt            \n",
    "    #for each planet in list it calculates change in velocity due to other planets using acceleration function\n",
    "\n",
    "    \n",
    "    for body in bodies:\n",
    "        body.pos= body.pos + body.v*dt\n",
    "    # updates position of the objects in the loop\n",
    "    \n",
    "    step= step + 1\n",
    "    # sums steps\n",
    "\n",
    "print(\"end of program\")"
   ]
  },
  {
   "cell_type": "markdown",
   "metadata": {},
   "source": [
    "##### Solar system:\n",
    "This a non realistic version of the solar system, this shows how sensitive the inital conditions are and shows how chaotic the motion can be. Not stable at all"
   ]
  },
  {
   "cell_type": "code",
   "execution_count": 6,
   "metadata": {},
   "outputs": [
    {
     "data": {
      "text/html": [
       "<div id=\"glowscript\" class=\"glowscript\"></div>"
      ],
      "text/plain": [
       "<IPython.core.display.HTML object>"
      ]
     },
     "metadata": {},
     "output_type": "display_data"
    },
    {
     "data": {
      "application/javascript": [
       "if (typeof Jupyter !== \"undefined\") { window.__context = { glowscript_container: $(\"#glowscript\").removeAttr(\"id\")};}else{ element.textContent = ' ';}"
      ],
      "text/plain": [
       "<IPython.core.display.Javascript object>"
      ]
     },
     "metadata": {},
     "output_type": "display_data"
    },
    {
     "ename": "ZeroDivisionError",
     "evalue": "float division by zero",
     "output_type": "error",
     "traceback": [
      "\u001b[1;31m---------------------------------------------------------------------------\u001b[0m",
      "\u001b[1;31mZeroDivisionError\u001b[0m                         Traceback (most recent call last)",
      "\u001b[1;32m<ipython-input-6-52c169247ab5>\u001b[0m in \u001b[0;36m<module>\u001b[1;34m\u001b[0m\n\u001b[0;32m     64\u001b[0m         \u001b[1;32mfor\u001b[0m \u001b[0mbody2\u001b[0m \u001b[1;32min\u001b[0m \u001b[0mbodies\u001b[0m\u001b[1;33m:\u001b[0m\u001b[1;33m\u001b[0m\u001b[1;33m\u001b[0m\u001b[0m\n\u001b[0;32m     65\u001b[0m             \u001b[1;32mif\u001b[0m \u001b[0mbody1\u001b[0m \u001b[1;33m!=\u001b[0m \u001b[0mbody2\u001b[0m\u001b[1;33m:\u001b[0m \u001b[1;31m# stops executing for planet on it self\u001b[0m\u001b[1;33m\u001b[0m\u001b[1;33m\u001b[0m\u001b[0m\n\u001b[1;32m---> 66\u001b[1;33m                 \u001b[0mbody1\u001b[0m\u001b[1;33m.\u001b[0m\u001b[0mv\u001b[0m\u001b[1;33m=\u001b[0m \u001b[0mbody1\u001b[0m\u001b[1;33m.\u001b[0m\u001b[0mv\u001b[0m \u001b[1;33m+\u001b[0m \u001b[0macc\u001b[0m\u001b[1;33m(\u001b[0m\u001b[0mbody1\u001b[0m\u001b[1;33m,\u001b[0m \u001b[0mbody2\u001b[0m\u001b[1;33m)\u001b[0m\u001b[1;33m*\u001b[0m\u001b[0mdt\u001b[0m\u001b[1;33m\u001b[0m\u001b[1;33m\u001b[0m\u001b[0m\n\u001b[0m\u001b[0;32m     67\u001b[0m      \u001b[1;31m#for each planet in list it calculates change in velocity due to other planets using acceleration function\u001b[0m\u001b[1;33m\u001b[0m\u001b[1;33m\u001b[0m\u001b[1;33m\u001b[0m\u001b[0m\n\u001b[0;32m     68\u001b[0m \u001b[1;33m\u001b[0m\u001b[0m\n",
      "\u001b[1;32m<ipython-input-6-52c169247ab5>\u001b[0m in \u001b[0;36macc\u001b[1;34m(body1, body2)\u001b[0m\n\u001b[0;32m     53\u001b[0m     \u001b[1;34m''' acceleration due to gravitational force '''\u001b[0m\u001b[1;33m\u001b[0m\u001b[1;33m\u001b[0m\u001b[0m\n\u001b[0;32m     54\u001b[0m     \u001b[0mr\u001b[0m \u001b[1;33m=\u001b[0m \u001b[0mbody1\u001b[0m\u001b[1;33m.\u001b[0m\u001b[0mpos\u001b[0m \u001b[1;33m-\u001b[0m \u001b[0mbody2\u001b[0m\u001b[1;33m.\u001b[0m\u001b[0mpos\u001b[0m\u001b[1;33m\u001b[0m\u001b[1;33m\u001b[0m\u001b[0m\n\u001b[1;32m---> 55\u001b[1;33m     \u001b[0ma\u001b[0m \u001b[1;33m=\u001b[0m \u001b[1;33m-\u001b[0m\u001b[1;33m(\u001b[0m\u001b[1;33m(\u001b[0m\u001b[0mG\u001b[0m \u001b[1;33m*\u001b[0m \u001b[0mbody2\u001b[0m\u001b[1;33m.\u001b[0m\u001b[0mmass\u001b[0m\u001b[1;33m*\u001b[0m \u001b[0mr\u001b[0m\u001b[1;33m)\u001b[0m \u001b[1;33m/\u001b[0m \u001b[0mmag\u001b[0m\u001b[1;33m(\u001b[0m\u001b[0mr\u001b[0m\u001b[1;33m)\u001b[0m\u001b[1;33m**\u001b[0m\u001b[1;36m3\u001b[0m \u001b[1;33m)\u001b[0m\u001b[1;33m\u001b[0m\u001b[1;33m\u001b[0m\u001b[0m\n\u001b[0m\u001b[0;32m     56\u001b[0m     \u001b[1;32mreturn\u001b[0m \u001b[0ma\u001b[0m\u001b[1;33m\u001b[0m\u001b[1;33m\u001b[0m\u001b[0m\n\u001b[0;32m     57\u001b[0m \u001b[1;31m# creates function which calculates gravitational acceleration of two given bodies\u001b[0m\u001b[1;33m\u001b[0m\u001b[1;33m\u001b[0m\u001b[1;33m\u001b[0m\u001b[0m\n",
      "\u001b[1;32mvpython\\cyvector.pyx\u001b[0m in \u001b[0;36mvpython.cyvector.vector.__truediv__\u001b[1;34m()\u001b[0m\n",
      "\u001b[1;31mZeroDivisionError\u001b[0m: float division by zero"
     ]
    }
   ],
   "source": [
    "# whole solar system\n",
    "canvas(width = 640, height = 480) \n",
    "\n",
    "# base values of earth to scale rest of solar system\n",
    "m = 1\n",
    "# mass\n",
    "v = 25\n",
    "# velocity\n",
    "r = 1\n",
    "# radius\n",
    "d = 1\n",
    "#distance to sun\n",
    "G = 1\n",
    "# set gravitational constant, units of mass are arbitary such that G is 1\n",
    "\n",
    "# solar system planets, values set relative to earth\n",
    "sun = sphere(pos= vector(0,0,0), radius=0.2*r, color=color.white , mass=100*m, make_trail=True)\n",
    "mercury = sphere(pos= vector(0,d,0), radius=0.05*r, color=color.blue, mass=0.3*m, make_trail=True)\n",
    "venus = sphere(pos=vector(0,0.7*d,0), radius=0.05*r, color=color.cyan, mass=0.8*m, make_trail=True)\n",
    "earth = sphere(pos= vector(0,d,0), radius=0.05*r, color=color.green, mass=m, make_trail=True)\n",
    "mars = sphere(pos=vector(0,1.5*d,0), radius=0.05*r, color=color.red, mass=0.9*m, make_trail=True)\n",
    "jupiter = sphere(pos=vector(0,5.2*d,0), radius=0.05*r, color=color.yellow, mass=300*m, make_trail=True)\n",
    "saturn = sphere(pos= vector(0,7*d,0), radius=0.05*r, color=color.white, mass=90*m, make_trail=True)\n",
    "uranus = sphere(pos= vector(0,8.5*d,0), radius=0.05*r, color=color.orange, mass=15*m, make_trail=True)\n",
    "neptune = sphere(pos= vector(0,18*d,0), radius=0.05*r, color=color.magenta, mass= 2000*m, make_trail=True)\n",
    "\n",
    "# add initial velocities\n",
    "sun.v = vector(0, 0, 0)\n",
    "mercury.v = vector(16*v, 0, 0)\n",
    "venus.v = vector(120*v, 0, 0)\n",
    "earth.v = vector(v, 0, 0)\n",
    "mars.v = vector(80*v, 0, 0)\n",
    "jupiter.v = vector(40*v, 0, 0)\n",
    "saturn.v = vector(30*v, 0, 0)\n",
    "uranus.v = vector(20*v, 0, 0)\n",
    "neptune.v = vector(150*v, 0, 0)\n",
    "\n",
    "bodies= (sun, mercury, venus, earth, mars, jupiter, saturn, uranus, neptune)\n",
    "# creates list of stellar bodies\n",
    "\n",
    "for body in bodies:\n",
    "    body.trail_color = body.color\n",
    "    #adds trails for each body\n",
    "\n",
    "dt = 0.0001\n",
    "t = 0\n",
    "step=0\n",
    "maxstep=100000 \n",
    "# initalises t and steps, sets maximum number of step and dt value\n",
    "\n",
    "\n",
    "def acc(body1, body2):\n",
    "    ''' acceleration due to gravitational force '''\n",
    "    r = body1.pos - body2.pos\n",
    "    a = -((G * body2.mass* r) / mag(r)**3 )\n",
    "    return a\n",
    "# creates function which calculates gravitational acceleration of two given bodies\n",
    "\n",
    "\n",
    "while step <= maxstep:\n",
    "    rate(500)\n",
    "    \n",
    "    for body1 in bodies:\n",
    "        for body2 in bodies:\n",
    "            if body1 != body2: # stops executing for planet on it self\n",
    "                body1.v= body1.v + acc(body1, body2)*dt\n",
    "     #for each planet in list it calculates change in velocity due to other planets using acceleration function\n",
    "    \n",
    "    for body in bodies:\n",
    "        body.pos= body.pos + body.v*dt\n",
    "    # updates position of the objects in the loop\n",
    "    \n",
    "    step= step + 1\n",
    "    # sums steps\n",
    "\n",
    "print(\"end of program\")"
   ]
  },
  {
   "cell_type": "markdown",
   "metadata": {},
   "source": [
    "##### Flat earth model:\n",
    "Clearly the most accurate model, a centre of mass is used to get moon and sun orbit above earth"
   ]
  },
  {
   "cell_type": "code",
   "execution_count": null,
   "metadata": {},
   "outputs": [],
   "source": [
    "# code for flat earth as it should be \n",
    "\n",
    "canvas(width = 640, height = 480) \n",
    "\n",
    "# base values of earth to scale rest of solar system\n",
    "\n",
    "m = 1\n",
    "# mass\n",
    "v = 40\n",
    "# velocity\n",
    "r = 0.05\n",
    "# radius\n",
    "d = 2\n",
    "#distance to sun\n",
    "\n",
    "G = 1\n",
    "# set gravitational constant, units of mass are arbitary such that G is 1\n",
    "\n",
    "\n",
    "# solar system planets, values set relative to earth\n",
    "com = sphere(pos= vector(0,0,0), radius= 0.00000000001*r, color=color.black , mass=5000*m )\n",
    "moon = sphere(pos= vector(0,d,0), radius=r, color=color.white, mass=29*m, make_trail=True)\n",
    "sun = sphere(pos=vector(0,1.5*d,0 ), radius=4*r, color=color.yellow, mass= 100*m, make_trail=True)\n",
    "\n",
    "earth= cylinder(pos= vector(0,0,-0.7), axis=vector(0,0,0.1), radius=100*r, mass= 100*m, color= color.blue)\n",
    "\n",
    "# initial velocities\n",
    "com.v = vector(0, 0, 0)\n",
    "moon.v = vector(v, 0, 0)\n",
    "sun.v = vector(0.8*v, 0, 0)\n",
    "earth.v =  vector(v, 0, 0)\n",
    "\n",
    "\n",
    "bodies= (sun, moon, com )\n",
    "# creates list of stellar bodies\n",
    "\n",
    "for body in bodies:\n",
    "    body.trail_color = body.color\n",
    "    #adds trails for each body\n",
    "\n",
    "dt = 0.00001\n",
    "t = 0\n",
    "step=0\n",
    "maxstep= 25000 \n",
    "# initalises t and steps, sets maximum number of step and dt value\n",
    "\n",
    "def acc(body1, body2):\n",
    "    ''' acceleration due to gravitational force '''\n",
    "    r = body1.pos - body2.pos\n",
    "    a = -((G * body2.mass* r) / mag(r)**3 )\n",
    "    return a\n",
    "# creates function which calculates gravitational acceleration of two given bodies\n",
    "\n",
    "while step <= maxstep:\n",
    "    rate(500)\n",
    "    \n",
    "    for body1 in bodies:\n",
    "        for body2 in bodies:\n",
    "            if body1 != body2: # stops executing for planet on itself\n",
    "                body1.v= body1.v + acc(body1, body2)*dt            \n",
    "    # for each planet in list it calculates change in velocity due to other planets using acceleration function, \n",
    "    # sun moves too\n",
    "\n",
    "    for body in bodies:\n",
    "        body.pos= body.pos + body.v*dt\n",
    "    # updates position of the objects in the loop\n",
    "    \n",
    "    step= step + 1\n",
    "    # sums steps\n",
    "\n",
    "print(\"end of program\")"
   ]
  },
  {
   "cell_type": "code",
   "execution_count": null,
   "metadata": {},
   "outputs": [],
   "source": []
  },
  {
   "cell_type": "code",
   "execution_count": null,
   "metadata": {},
   "outputs": [],
   "source": []
  }
 ],
 "metadata": {
  "kernelspec": {
   "display_name": "Python 3",
   "language": "python",
   "name": "python3"
  },
  "language_info": {
   "codemirror_mode": {
    "name": "ipython",
    "version": 3
   },
   "file_extension": ".py",
   "mimetype": "text/x-python",
   "name": "python",
   "nbconvert_exporter": "python",
   "pygments_lexer": "ipython3",
   "version": "3.7.3"
  }
 },
 "nbformat": 4,
 "nbformat_minor": 2
}
