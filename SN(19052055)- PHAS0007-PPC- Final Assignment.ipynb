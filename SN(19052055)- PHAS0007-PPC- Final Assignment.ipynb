{
 "cells": [
  {
   "cell_type": "markdown",
   "metadata": {},
   "source": [
    "#   Final Assignment-  Projectial Game (Student Number: 19052055)#"
   ]
  },
  {
   "cell_type": "code",
   "execution_count": 1,
   "metadata": {},
   "outputs": [
    {
     "data": {
      "text/html": [
       "<div id=\"glowscript\" class=\"glowscript\"></div>"
      ],
      "text/plain": [
       "<IPython.core.display.HTML object>"
      ]
     },
     "metadata": {},
     "output_type": "display_data"
    },
    {
     "data": {
      "application/javascript": [
       "if (typeof Jupyter !== \"undefined\") { window.__context = { glowscript_container: $(\"#glowscript\").removeAttr(\"id\")};}else{ element.textContent = ' ';}"
      ],
      "text/plain": [
       "<IPython.core.display.Javascript object>"
      ]
     },
     "metadata": {},
     "output_type": "display_data"
    }
   ],
   "source": [
    "import numpy as np\n",
    "from vpython import sphere, cylinder, cone, ellipsoid, compound, box, arrow, curve, ring\n",
    "from vpython import canvas, vector, rate, sleep, label, color, random, cross, mag\n",
    "#import libries, numpy for calculations, vpython for animations"
   ]
  },
  {
   "cell_type": "markdown",
   "metadata": {},
   "source": [
    "### Introduction:\n",
    "This is the code for a projectile game in which a player aims to topple a wall of randomised distance, we aim to use vpython and projectile motion equations, and some rotational mechanics to simulate this system.\n",
    "\n",
    "We aim to:\n",
    "* To create a projectile firing, from a platform; this will be achieved by randomising platform height using `random()` function and the motion will be modelled of kinematic equations of projectile in 2d.\n",
    "* To detect collision and calculate torque in order to see if the wall topples.\n",
    "\n",
    "I plan to impliment this with `while` loops for the motion of objects and `if` statments to detect conditions, then by specifying functions of the motion input these to animate the motion.\n"
   ]
  },
  {
   "cell_type": "code",
   "execution_count": 2,
   "metadata": {},
   "outputs": [],
   "source": [
    "def objects():\n",
    "    ''' Function that sets up objects in scene, including ground, wall, platform and labels, also sets up projectile'''\n",
    "    \n",
    "    global proj\n",
    "    global wall\n",
    "    global ground\n",
    "    global l_start\n",
    "    global l_miss\n",
    "    global l_hit\n",
    "    global l_ntop\n",
    "    global l_win\n",
    "    # variables that are in the function are local, to use them in main code they are made global\n",
    "\n",
    "    ground= curve(pos= [(0,0,0),(16,0,0)], color=color.green)    \n",
    "    wall= box(pos= vector(x0,1,0), axis= vector(2,0,0), length= 0.5, height= 2, width= 0.5, mass= 10000, color= color.orange)\n",
    "    plat= box(pos= vector(0,y0/2,0), axis= vector(y0,0,0), length= 0.3, height= y0, width= 0.3, color= color.white)\n",
    "    # sets scene with ground, the wall x position,x0, is randomised in main code, along with platform height,y0\n",
    "    \n",
    "    l_start=label( pos=vector(0,2,0), text='Enter speed and angle' )\n",
    "    l_miss=label(pos=vector(8,5,0), text='Miss, failed to hit wall, try again... ')\n",
    "    l_hit=label( pos=vector(8,5,0), text='You have hit the target')\n",
    "    l_ntop=label( pos=vector(8,5,0), text='Failed to topple wall, try again... ')\n",
    "    l_win=label( pos=vector(8,5,0), text='You WIN, Play AGAIN')     \n",
    "    # set update labels for game \n",
    "   \n",
    "    l_miss.visible=False\n",
    "    l_hit.visible=False\n",
    "    l_ntop.visible=False\n",
    "    l_win.visible=False\n",
    "    # Clear all labels to be called when appropriate\n",
    "\n",
    "    if outfit in yes:\n",
    "        body= sphere(pos= vector(rx0,ry0,0),radius = 0.15, color= color.red)\n",
    "        eyeR= sphere(pos= vector(rx0+0.07,ry0+0.05,0.07),radius = 0.05, color= color.white)\n",
    "        eyeL= sphere(pos= vector(rx0+0.07,ry0+0.05,-0.07),radius = 0.05, color= color.white)\n",
    "        pupilR= sphere(pos = vector(rx0+0.095,ry0+0.06,0.09),radius = 0.02, color= color.black)\n",
    "        pupilL= sphere(pos = vector(rx0+0.095,ry0+0.06,-0.09),radius = 0.02, color= color.black)\n",
    "        beak= cone(pos= vector(rx0,ry0,0), axis=vector(0.27,0,0), radius=0.13, color= color.orange)\n",
    "        comb= ellipsoid(pos= vector(rx0,ry0,0),length=0.3, height=0.45, width=0.1, color= color.orange)\n",
    "        wingR= box(pos= vector(rx0,ry0,0.1), axis= vector(0,1,-3), length=0.3, height= 0.03, width= 0.11, color= color.red)\n",
    "        wingL= box(pos= vector(rx0,ry0,-0.1), axis= vector(0,-1,-3), length=0.3, height= 0.03, width= 0.11, color=color.red)\n",
    "        \n",
    "        proj= compound([body,eyeR,eyeL,pupilR,pupilL,beak,comb,wingR,wingL], mass=0.1, radius= 0.15, make_trail= True)\n",
    "        # bird outfit is a compound outfit from contituent objects\n",
    "      \n",
    "    elif outfit in no:\n",
    "        handle= cylinder(pos= vector(0,y0,0), axis= vector(0,0.4,0), radius= 0.05, color= vector(0.72,0.42,0) )\n",
    "        head= box(pos= vector(0,y0+0.4,0),axis= vector(0.4,0,0),length= 0.3,height= 0.15,width= 0.15,color= color.gray(.6))\n",
    "        proj= compound([handle, head], mass= 0.1, radius= 0.15, make_trail= True, trail_color= color.red) \n",
    "        # hammer is compound of cylinder and box\n",
    "        \n",
    "    else:\n",
    "        proj= sphere(pos= vector(rx0,ry0,0),radius = 0.15, color= color.red, mass=0.1, make_trail=True)\n",
    "        # regular ball projectile\n",
    "        \n",
    "    # if,elif,else- sets the projectile outfit, in main cell input outfit variable is set with output function\n",
    "    # if/elif statement check if the user input is in the yes/no list which is defined in main cell\n",
    "      \n",
    "    proj.trail_color= color.red\n",
    "    # creates trail for projectile"
   ]
  },
  {
   "cell_type": "code",
   "execution_count": 3,
   "metadata": {},
   "outputs": [],
   "source": [
    "def initial():\n",
    "    '''Function to get and initialise projection parameters'''\n",
    "    \n",
    "    global v0, theta, px, py, momentum, l_start, confirm\n",
    "    # variables that are in the function are local, to use them in main code they are made global\n",
    "\n",
    "    v0= float(input('Input the initial speed as float in metres/second:' ))\n",
    "    dtheta= float(input('Input the initial angle as float in degrees: '))\n",
    "    theta= np.radians(dtheta)\n",
    "    # input for user to initial angle and speed\n",
    "\n",
    "    px= proj.mass*v0*np.cos(theta)\n",
    "    py= proj.mass*v0*np.sin(theta)\n",
    "    momentum= arrow(pos= proj.pos, axis= vector(px,py,0), shaftwidth= 0.035, color= color.red) \n",
    "    # calculates x/y momentum and create momentum arrow displaying momentum vector via the axis\n",
    "    \n",
    "    scene.waitfor('redraw')\n",
    "    # forces vpython to wait to redraw canvas, this allows the momentum arrow to display before confirming conditions\n",
    "    #(to show arrow before proceeding in main code past confirm input), {2}"
   ]
  },
  {
   "cell_type": "markdown",
   "metadata": {},
   "source": [
    "### Projectile motion:\n",
    "The path of projectile can be expressed fully by with our initial parameters: the initial speed $v_0$ and the angle of launch $\\theta$,.   \n",
    "\n",
    "The position $r$ of the projectile at any time $t$ is then given by {1}:\n",
    "\n",
    "$$ r_x = x_0 + v_0t \\cos\\theta, \\quad[1] $$\n",
    "$$ r_y = y_0 + v_0t \\sin\\theta −gt^2, \\quad[2] $$\n",
    "\n",
    "From which, as momentum is defined as $ \\textbf{p} = m \\frac{d \\textbf{r}}{dt}, $, we get the following expressions for the momentum of the projectile{1}:\n",
    "\n",
    "$$ p_x = mv_0 \\cos\\theta, \\quad[3] $$\n",
    "$$ p_y = mv_0 \\sin\\theta − mgt, \\quad[4] $$\n",
    "\n",
    "These projectile motion equation are implimented in the function below, this is used in a while loop to calculate the updated position and momentum of the projectile as we iterate of time. The function then updates the vector and projectile's position. \n",
    "\n",
    "In addition, for visualisation, I gave the bird a non-real rotation modelling it using angular velocity. From the birds momentum, I calculated translational velocity from which obtained angular velocity $\\omega$ from:\n",
    "$$ v= \\frac{\\omega}{r}  \\quad[5] $$\n",
    "\n",
    "And as $ \\omega =  \\frac{d \\theta}{dt} $, we get that the change in angle $d\\theta$ is :\n",
    "\n",
    "$$ d\\theta= \\omega dt \\quad[6]$$\n",
    "\n",
    "The change of angle is then used with the object.rotate function {3}, to rotate the projectile about its centre, however, although a projectile rotates this is due to air resistence and angular momentum give when lauch here this rotation is not physical and for visuals only."
   ]
  },
  {
   "cell_type": "code",
   "execution_count": 4,
   "metadata": {},
   "outputs": [],
   "source": [
    "def motion(): \n",
    "    '''Function describing equation of motion and momentum of projectile, with input parameters'''\n",
    "    \n",
    "    global t, rx, ry, px, py, mag_v\n",
    "     # variables that are in the function are local, to use them in main code they are made global\n",
    "        \n",
    "    t= t+dt\n",
    "    # when in while loop code iterates over time\n",
    "    \n",
    "    rx= rx0 + v0*t*np.cos(theta)\n",
    "    ry= ry0 + v0*t*np.sin(theta) - 0.5*g*(t**2)\n",
    "    proj.pos= vector(rx,ry,0)  \n",
    "    # calculates change in position from eq.[1] & eq.[2], then update projectiles position\n",
    "    \n",
    "    px= proj.mass*v0*np.cos(theta)\n",
    "    py= proj.mass*(v0*np.sin(theta)-g*t)\n",
    "    momentum.pos= proj.pos\n",
    "    momentum.axis= vector(px,py,0)\n",
    "    # calculates change in momentumm from eq.[3] & eq.[4], then update arrows pos. to projectiles pos., and update axis\n",
    "       \n",
    "    mag_v= mag(momentum.axis)/proj.mass\n",
    "    # takes magnitude or arrow axis as balls momentum, from which velocity is obtained\n",
    "    \n",
    "    mag_w= mag_v/proj.radius\n",
    "    b_angle= mag_w*dt\n",
    "    # calculates angular velocity from eq.[5], and the change in balls angle due to angular velocity from eq.[6]\n",
    "    \n",
    "    proj.rotate(angle= -b_angle, axis= vector(0,0,1), origin=vector(rx,0,0))  \n",
    "    # .rotate function rotates object by specified angle about a axis and origin{3}"
   ]
  },
  {
   "cell_type": "markdown",
   "metadata": {},
   "source": [
    "### Collision:\n",
    "The function below allows us to determine the result if there is a collision,we make the following assumptions taken from {1}:\n",
    "* The collision is completely elastic\n",
    "* The ball transfers all its momentum to the wall\n",
    "* The contact time between the ball and the target is finite, and is the same for all collisions. It can thus be represented as a fixed parameter $ \\Delta t $ collision.\n",
    "* The target cannot slide on the ground\n",
    "* The target has constant density, so that its centre of mass is at the geometric centre of the target\n",
    "\n",
    "We can use this to calculate the force applied to the target as a result of the collision, and calculate if it is enough to topple the target.\n",
    "\n",
    "##### Toppling the target:\n",
    "In order to topple the target over, the applied torque must be sufficient to overcome the restoring torque which operates through the centre of mass,\n",
    "$$ | \\textbf{F}_{applied}| > |\\textbf{F}_{restoring}| \\quad [7] $$\n",
    "\n",
    "\n",
    "The magnitude of the restoring torque is given as: \n",
    "\n",
    "$$ |\\boldsymbol{\\tau}_{restoring}| = −mg \\frac{w}{2}, \\quad[8] $$\n",
    "\n",
    "where $w$ is the length of the block\n",
    "\n",
    "And the applied torque supplied by the collision:\n",
    "\n",
    "$$ \\boldsymbol{\\tau} _{applied} = \\textbf{F}_{applied} × \\textbf{d}_a, \\quad[9] $$ \n",
    "\n",
    "where now $ \\boldsymbol{d}_a $ is the vector from the point of rotation to the point of impact. Moreover since we have assumed that all the ball’s momentum is transferred to the target, $\\delta p$ will be equal to the momentum of the ball at impact, we get the applied force as:\n",
    "\n",
    "$$ \\textbf{F}_{applied}= \\frac{\\textbf{p}_{ball} }{\\Delta t} \\quad[10] $$\n",
    "\n",
    "Moreover, calculate the angular velocity of the was after the collision, I used the fact the collision is elastic to compare the balls kinetic energy before with the rotational kinetic energy of the wall after, this is given as:\n",
    "\n",
    "$$\\frac{1}{2}m_{ball}v_{ball}^2 = \\frac{1}{2}I_{wall}\\omega_{wall}^2 \\quad[11]$$\n",
    "\n",
    "Rearranging the equation for the angular velocity after the collision we get:\n",
    "$$\\omega_{wall}= \\sqrt{\\frac{m_{ball}v_{ball}^2}{I_{wall}}} \\quad[12]$$\n",
    "\n",
    "where $I_{wall}$ is the moment of inertia of the wall, given as:\n",
    "$$ I_{wall}= \\frac{M_{wall}\\sqrt{L^2+H^2}}{3}\\quad[13]$$\n",
    "\n",
    "All these variables are calculated by this function and the torques are compared to return a boolean to specify the collision type.\n"
   ]
  },
  {
   "cell_type": "code",
   "execution_count": 5,
   "metadata": {},
   "outputs": [],
   "source": [
    "def topple():\n",
    "    '''Function to calculate impact parameters, and return boolean of succesful or failed colision'''\n",
    "    \n",
    "    global mag_W, fall\n",
    "    # variables that are in the function are local, to use them in main code they are made global\n",
    "    \n",
    "    print('\\nImpact Height: {0:.2f}m'.format(ry))\n",
    "    # prints formated impact height\n",
    "                \n",
    "    p= momentum.axis\n",
    "    mag_p= mag(p)\n",
    "    # momentum given by arrow axis, and absolute value taken\n",
    "    \n",
    "    print('The balls momentum is[{0:.1f},{1:.1f},0]Ns'.format(px,py)) \n",
    "    print('The magnitude of the momentum is, {0:.2f}Ns'.format(mag_p))\n",
    "    # prints formated momentum and magnitude of momentum\n",
    "\n",
    "    Fa= p/deltaT\n",
    "    da= (proj.pos- vector(x0+0.25,0,0))    \n",
    "    Ta= cross(Fa,da)\n",
    "    print('\\nApplied Torque from the ball: [{0:.0f},{1:.0f},{2:.0f}]Nm'.format(Ta.x,Ta.y,Ta.z))\n",
    "    # calculates vector of applied  force and torque, using eq.[9] & eq.[10]\n",
    "\n",
    "    mag_Ta= mag(Ta)\n",
    "    print('Magnitude of Applied Torque by the ball: {0:.0f}Nm'.format(mag_Ta))\n",
    "    # gives absolute value for torque vector\n",
    "\n",
    "    mag_Tr= wall.mass*g*wall.length/2\n",
    "    print('Magnitude of Restoring Torque: {0:.0f}Nm'.format(mag_Tr))\n",
    "    #calculate magnitude of restoring torque from eq.[8]\n",
    "    \n",
    "    I= wall.mass*(wall.height**2+wall.length**2)/3   \n",
    "    mag_W= np.sqrt(proj.mass*(mag_v)**2/I)\n",
    "    #calculate walls moment of inertia and angular velocity from eq.[12] and eq.[13]\n",
    "\n",
    "    if mag_Ta > mag_Tr:\n",
    "        fall= True\n",
    "    # if contains condition for if wall topples, sets fall true which dictates route code goes in main algorithm, so topples\n",
    "    \n",
    "    else:\n",
    "        fall = False\n",
    "    # otherwise fall is set false wall will not fall and game resets       "
   ]
  },
  {
   "cell_type": "markdown",
   "metadata": {},
   "source": [
    "### Wall Toppling\n",
    "To topple the wall I've modeled the wall as a uniform rode, negating its width, then using a centipedal force due to gravity I have used angular kinematics to calculate the change in angular velocity from which the change in angle is calculated. by resolving gravity of the wall we get the centripeddal force as the component parrel to the walls axis:\n",
    "\n",
    "$$ F_{cent}= mgsin\\theta \\rightarrow a_{cent}=gsin\\theta \\quad [14]$$\n",
    "\n",
    "here $\\theta$ is the angle makes with the horizontal axis as it falls, thus meaning the centripedal acceleration increases to a maximum as it goes from zero to 90 degrees.\n",
    "\n",
    "To calculate changes in angle  we use the following rotational kinematic equations, analogous to linear suvat equations, $v=u+at$:\n",
    "\n",
    "$$\\omega = \\omega + a_{cent}t \\quad [15]$$\n",
    "\n",
    "From this we can find the change in angle using eq.[6] and sum the angles to get $\\theta$ over time. This function implements these equations, as we itirate over time, this function also similtaniously drops the ball, using if statement including the projectile motion equations with specific initial conditions of v0=0."
   ]
  },
  {
   "cell_type": "code",
   "execution_count": 6,
   "metadata": {},
   "outputs": [],
   "source": [
    "def rotate():\n",
    "    '''Function to calculate chage in angle and roationof wall'''\n",
    "    \n",
    "    global t, w_angle, mag_W, ry, rx,py\n",
    "    # variables that are in the function are local, to use them in main code they are made global\n",
    "\n",
    "    t=t+dt\n",
    "    #iterates over time\n",
    "  \n",
    "    acc_W= (g*np.sin(w_angle))\n",
    "    # acceleration cal. from eq.[14]\n",
    "    \n",
    "    mag_W= mag_W + acc_W*(t)\n",
    "    # new angular velocity from eq. [15]\n",
    "    \n",
    "    delta_angle= mag_W*dt\n",
    "    # change in angle eq.[6]\n",
    "    \n",
    "    w_angle= w_angle + delta_angle\n",
    "    # summing angles as wall topples\n",
    "\n",
    "    wall.rotate(angle= -delta_angle, axis= vector(0,0,1), origin= vector(x0+0.25,0,0))\n",
    "    # rotates wall about z axis from right corner \n",
    "\n",
    "    if ry >= 0.15:\n",
    "    # while  ball is above ground the balls position is iterated through freefall eq. of motion\n",
    "    \n",
    "        ry= ry - 0.5*g*(t**2)\n",
    "        proj.pos= vector(rx,ry,0)  \n",
    "        # calculates change in position from eq.[1] & eq.[2], with v0=0, then update projectiles position\n",
    "        \n",
    "        py= -proj.mass*g*t\n",
    "        momentum.pos= proj.pos\n",
    "        momentum.axis= vector(0,py,0)\n",
    "        # calculates change in momentumm from eq.[3] & eq.[4], with v0=0, \n",
    "        #then update arrows pos. to projectiles pos., and update axis"
   ]
  },
  {
   "cell_type": "markdown",
   "metadata": {},
   "source": [
    "### Main Loop:\n",
    "This code uses a overal `while` loop to allow complete repeats of the game; inside I initalise variables that do not change between attempts then a `while` loop contains the main game code which allows repeats when the player has not won. Once the intial inputs are in, the main games iterates over the main `while` loop when the ball is above the ground. Inside, this loop an `if/else` statement detect if the collision is inside the boundaries of the wall and otherwise it iterates for regular projectile motion using `motion()` function( taking care for under and over shooting). If the ball collides, inside the `if` I use the `topple()` function to calculate collision parameters then comparin torque leads to the final `if/else` statement in which the ball either falls or if torque is greater enough the wall topples."
   ]
  },
  {
   "cell_type": "code",
   "execution_count": null,
   "metadata": {
    "scrolled": false
   },
   "outputs": [
    {
     "name": "stdout",
     "output_type": "stream",
     "text": [
      "Distance of wall from launch platform:7.6m\n",
      "Height of launch platform: 0.06m\n"
     ]
    },
    {
     "data": {
      "text/html": [
       "<div id=\"glowscript\" class=\"glowscript\"></div>"
      ],
      "text/plain": [
       "<IPython.core.display.HTML object>"
      ]
     },
     "metadata": {},
     "output_type": "display_data"
    },
    {
     "data": {
      "application/javascript": [
       "if (typeof Jupyter !== \"undefined\") { window.__context = { glowscript_container: $(\"#glowscript\").removeAttr(\"id\")};}else{ element.textContent = ' ';}"
      ],
      "text/plain": [
       "<IPython.core.display.Javascript object>"
      ]
     },
     "metadata": {},
     "output_type": "display_data"
    },
    {
     "name": "stdout",
     "output_type": "stream",
     "text": [
      "\n",
      "Do you want the projectial to be a bird, hammer, or ball:ball\n",
      "Do you want the camera to follow projectial, yes or no ?(By defualt wont follow):yes\n"
     ]
    },
    {
     "data": {
      "text/html": [
       "<div id=\"glowscript\" class=\"glowscript\"></div>"
      ],
      "text/plain": [
       "<IPython.core.display.HTML object>"
      ]
     },
     "metadata": {},
     "output_type": "display_data"
    },
    {
     "data": {
      "application/javascript": [
       "if (typeof Jupyter !== \"undefined\") { window.__context = { glowscript_container: $(\"#glowscript\").removeAttr(\"id\")};}else{ element.textContent = ' ';}"
      ],
      "text/plain": [
       "<IPython.core.display.Javascript object>"
      ]
     },
     "metadata": {},
     "output_type": "display_data"
    },
    {
     "data": {
      "application/javascript": [
       "if (typeof Jupyter !== \"undefined\") {require.undef(\"nbextensions/vpython_libraries/glow.min\");}else{element.textContent = ' ';}"
      ],
      "text/plain": [
       "<IPython.core.display.Javascript object>"
      ]
     },
     "metadata": {},
     "output_type": "display_data"
    },
    {
     "data": {
      "application/javascript": [
       "if (typeof Jupyter !== \"undefined\") {require.undef(\"nbextensions/vpython_libraries/glowcomm\");}else{element.textContent = ' ';}"
      ],
      "text/plain": [
       "<IPython.core.display.Javascript object>"
      ]
     },
     "metadata": {},
     "output_type": "display_data"
    },
    {
     "data": {
      "application/javascript": [
       "if (typeof Jupyter !== \"undefined\") {require.undef(\"nbextensions/vpython_libraries/jquery-ui.custom.min\");}else{element.textContent = ' ';}"
      ],
      "text/plain": [
       "<IPython.core.display.Javascript object>"
      ]
     },
     "metadata": {},
     "output_type": "display_data"
    },
    {
     "data": {
      "application/javascript": [
       "if (typeof Jupyter !== \"undefined\") {require([\"nbextensions/vpython_libraries/glow.min\"], function(){console.log(\"GLOW LOADED\");});}else{element.textContent = ' ';}"
      ],
      "text/plain": [
       "<IPython.core.display.Javascript object>"
      ]
     },
     "metadata": {},
     "output_type": "display_data"
    },
    {
     "data": {
      "application/javascript": [
       "if (typeof Jupyter !== \"undefined\") {require([\"nbextensions/vpython_libraries/glowcomm\"], function(){console.log(\"GLOWCOMM LOADED\");});}else{element.textContent = ' ';}"
      ],
      "text/plain": [
       "<IPython.core.display.Javascript object>"
      ]
     },
     "metadata": {},
     "output_type": "display_data"
    },
    {
     "data": {
      "application/javascript": [
       "if (typeof Jupyter !== \"undefined\") {require([\"nbextensions/vpython_libraries/jquery-ui.custom.min\"], function(){console.log(\"JQUERY LOADED\");});}else{element.textContent = ' ';}"
      ],
      "text/plain": [
       "<IPython.core.display.Javascript object>"
      ]
     },
     "metadata": {},
     "output_type": "display_data"
    },
    {
     "name": "stdout",
     "output_type": "stream",
     "text": [
      "Input the initial speed as float in metres/second:50\n",
      "Input the initial angle as float in degrees: 12\n",
      "Do you want to continue, yes or no, no to change variables:no\n"
     ]
    },
    {
     "data": {
      "text/html": [
       "<div id=\"glowscript\" class=\"glowscript\"></div>"
      ],
      "text/plain": [
       "<IPython.core.display.HTML object>"
      ]
     },
     "metadata": {},
     "output_type": "display_data"
    },
    {
     "data": {
      "application/javascript": [
       "if (typeof Jupyter !== \"undefined\") { window.__context = { glowscript_container: $(\"#glowscript\").removeAttr(\"id\")};}else{ element.textContent = ' ';}"
      ],
      "text/plain": [
       "<IPython.core.display.Javascript object>"
      ]
     },
     "metadata": {},
     "output_type": "display_data"
    },
    {
     "name": "stdout",
     "output_type": "stream",
     "text": [
      "Input the initial speed as float in metres/second:50\n",
      "Input the initial angle as float in degrees: 15\n",
      "Do you want to continue, yes or no, no to change variables:yes\n",
      "Landing distance was 127.6m\n"
     ]
    },
    {
     "data": {
      "text/html": [
       "<div id=\"glowscript\" class=\"glowscript\"></div>"
      ],
      "text/plain": [
       "<IPython.core.display.HTML object>"
      ]
     },
     "metadata": {},
     "output_type": "display_data"
    },
    {
     "data": {
      "application/javascript": [
       "if (typeof Jupyter !== \"undefined\") { window.__context = { glowscript_container: $(\"#glowscript\").removeAttr(\"id\")};}else{ element.textContent = ' ';}"
      ],
      "text/plain": [
       "<IPython.core.display.Javascript object>"
      ]
     },
     "metadata": {},
     "output_type": "display_data"
    }
   ],
   "source": [
    "repeat= True\n",
    "\n",
    "while repeat==True:\n",
    "    x0= 5+ 10*random()\n",
    "    print('Distance of wall from launch platform:{0:.1f}m'.format(x0))\n",
    "    y0= random()\n",
    "    print('Height of launch platform: {0:.2f}m'.format(y0)) \n",
    "    # initialise random variables, keeping them constant between attempts\n",
    "\n",
    "    rx0= 0\n",
    "    ry0= y0+0.15    \n",
    "    # initialise balls pos., y.pos has +0.15 to stop it imbedding\n",
    "\n",
    "    g= 9.81 \n",
    "    # gravitational acceleration, m/s2\n",
    "    dt= 0.0001 \n",
    "    # time interval for loop animation\n",
    "    deltaT= 0.01\n",
    "    # contact time of collision\n",
    "    \n",
    "    scene= canvas()\n",
    "    # initialises canvas as while loop deletes canvas initially\n",
    "    \n",
    "    yes = {'yes','y', 'ye', 'Y','YES','Yes', 'oui', 'Oui', 'OUI','tak', 'bird', 'Bird','b', 'B'}\n",
    "    no = {'no','n','N','No', 'NO', 'non','Non', 'NON', 'nie', 'hammer', 'Hammer', 'h', 'H'}\n",
    "    # List of yes inputs that are accepted, these work yes/no inputs, so they are defined as list of strings\n",
    "    # Also includes outfit names\n",
    "\n",
    "    outfit= input('\\nDo you want the projectial to be a bird, hammer, or ball:')\n",
    "    follow= input('Do you want the camera to follow projectial, yes or no ?(By defualt wont follow):')\n",
    "    # askes out fit and follow inputs, raw input so anything can be put in, but non valid inputs (not y/n) ignored\n",
    "    \n",
    "    win= False\n",
    "    # initialise win as False \n",
    "\n",
    "    while win == False:\n",
    "    # loops until you win\n",
    "    \n",
    "        scene.delete()\n",
    "        #if loops old canvas gets deleted before new one is created with original states\n",
    "        \n",
    "        scene= canvas(width= 640, height= 480, center= vector(8,5,0),range= 8)\n",
    "        # creates the canvas and sets intial variables\n",
    "        \n",
    "        objects()\n",
    "        # calls function to draw objects in the scene\n",
    "        \n",
    "        initial()\n",
    "        # calls function to input initial variables\n",
    "\n",
    "        confirm= input('Do you want to continue, yes or no, no to change variables:')\n",
    "        #requests input to continues, if not new variables can be chosen\n",
    "\n",
    "        l_start.visible= False\n",
    "        #hide initial label\n",
    "\n",
    "        ry= 0.15\n",
    "        rx= 0.15\n",
    "        t= 0 \n",
    "        # initialise time and position\n",
    "        \n",
    "        miss= True\n",
    "        #initialies miss, must be changed when hit\n",
    "\n",
    "        if follow in yes:\n",
    "            scene.camera.follow(proj)\n",
    "        # if input yes to follow, centre of canvas is set to proj. position\n",
    "\n",
    "        if confirm in yes:\n",
    "        # only allows to continue if confirm input is in yes list\n",
    "        \n",
    "            while ry >= 0.15: \n",
    "            # repeats until proj hitd ground, y=0.15 is used to stop inbeddment in ground\n",
    "\n",
    "                if (x0-0.4) <= rx <= (x0+0.25) and ry <= wall.height:\n",
    "                # hits the wall if y is less than height or if between walls x position\n",
    "                #(0.4 includes proj radies to stop imbeddmentation in wall)\n",
    "                    \n",
    "                    miss= False\n",
    "\n",
    "                    topple()\n",
    "                    #calls function to calculate collision parameters\n",
    "                    \n",
    "                    t= 0\n",
    "                    px= 0\n",
    "                    ry0=ry\n",
    "                    rx0=rx\n",
    "                    v0=0\n",
    "                    theta= np.pi/2\n",
    "                    w_angle= 0\n",
    "                    #re initialise conditions of the projectile\n",
    "\n",
    "                    if fall==True:\n",
    "                    # fall defined in topple function, if true the topple takes place\n",
    "                    \n",
    "                        while wall.pos.y >= 0.25:\n",
    "                        # as wall falls lower we iterate till it collapses\n",
    "                            rate(1000)\n",
    "                            rotate()\n",
    "                            #calls rotate function to iterate topple over time\n",
    "                        win= True\n",
    "\n",
    "                    else:\n",
    "                        while ry >= 0.15:\n",
    "                        #iterates till proj hits the ground\n",
    "                            rate(10000)\n",
    "                            motion()\n",
    "                            # calls motion function, with new variables ball falls\n",
    "                else:\n",
    "                    rate(1000)\n",
    "                    motion()\n",
    "                    # calls projectile motion function to iterate over time\n",
    "\n",
    "                    if rx > 16 and ry <= 1:\n",
    "                        ground= curve(pos= [vector(0,0,0),vector(rx+3, 0,0)], color= color.green)\n",
    "                    # if over shots, extends the ground to new position\n",
    "\n",
    "            scene.waitfor('redraw') \n",
    "            # pauses to redraw before ending/ resetting\n",
    "\n",
    "            if win == False and miss == False: \n",
    "            # outputs code below if hit no topple\n",
    "            \n",
    "                l_ntop.visible= True\n",
    "                # shows label\n",
    "                \n",
    "                rx0= 0\n",
    "                ry0= y0+0.15 \n",
    "                #r esets initial position\n",
    "                sleep(1.5)\n",
    "                #pause before reset\n",
    "                \n",
    "            elif win == True and miss == False: \n",
    "            # outputs code below if win\n",
    "                l_win.visible= True\n",
    "                sleep(1.5) \n",
    "                # shows label\n",
    "\n",
    "                play_again= input('Do you want to play again, yes or no ?:')\n",
    "                if play_again in no:\n",
    "                    repeat= False \n",
    "                # allows repeat, if input is yes\n",
    "            else:\n",
    "            # miss is the only situation left, outputs code below if miss\n",
    "                l_miss.visible= True\n",
    "                sleep(1.5) \n",
    "                print('Landing distance was {0:.1f}m'.format(rx)) \n",
    "                  "
   ]
  },
  {
   "cell_type": "markdown",
   "metadata": {},
   "source": [
    "### Conclusion and Dicussion:\n",
    "The code works well providing the assumptions made, however, lacks a more realistic grounding, it could be improved by:\n",
    "* Dont consider the ball a point mass and include air resistance, this would give a more physical spin and affect the projectial mostion and range. This could be included by using vectors for the forces on the projectile and then use these to get the corresponding equations of motion for inside the loop.\n",
    "* Consider both the ball hitting the wall and ground as inelastic collision, including bonce's off of the surfcae's. in addition, this would change the energy transfer  to the wall effecting rotation. For this we would have to include a coefficient of restition of the surfaces.\n",
    "* Consider restoring torque as a vector, from this we could get expression for resulting torque from the ball and  modelling with shm, could get equation of motion to make the wall wobble at lower torques, and only if the torque goes beyond pivot point there is collapse, this could be done with `while` loop for equation of motion and using and `if` to detect when it is beyond pivot point.\n",
    "* If we used very large distances we could also take account for the curvature of the earth, this could be done by a more rigid model of gravity, using the gravitational force vector to define the projectiles motion.."
   ]
  },
  {
   "cell_type": "markdown",
   "metadata": {},
   "source": [
    "# References:\n",
    "* {1} Dash, L., and Lemos, P., (2019). _\"PHAS0007: Final assignment 2019/20\"_. UCL Moodle resource available from, https://moodle.ucl.ac.uk/course/view.php?id=10648 \\[accessed 17 January 2020\\]\n",
    "* {2}https://www.glowscript.org/docs/GlowScriptDocs/rate.html \\[accessed 17 January 2020\\]\n",
    "* {3}https://www.glowscript.org/docs/VPythonDocs/rotation.html \\[accessed 17 January 2020\\]\n",
    "* {4}https://www.askiitians.com/forums/Mechanics/fig-shows-a-uniform-block-of-mass-m-and-edge-len_119687.htm \\[accessed 17 January 2020\\]\n",
    "* {5}http://astro1.panet.utoledo.edu/~mheben/PHYS_2130/Chapter11-1_mh.pdf \\[accessed 17 January 2020\\]\n",
    "* {6}http://www.softschools.com/notes/ap_physics/angular_kinematics/ \\[accessed 17 January 2020\\]"
   ]
  },
  {
   "cell_type": "code",
   "execution_count": null,
   "metadata": {},
   "outputs": [],
   "source": []
  }
 ],
 "metadata": {
  "kernelspec": {
   "display_name": "Python 3",
   "language": "python",
   "name": "python3"
  },
  "language_info": {
   "codemirror_mode": {
    "name": "ipython",
    "version": 3
   },
   "file_extension": ".py",
   "mimetype": "text/x-python",
   "name": "python",
   "nbconvert_exporter": "python",
   "pygments_lexer": "ipython3",
   "version": "3.7.3"
  }
 },
 "nbformat": 4,
 "nbformat_minor": 2
}
