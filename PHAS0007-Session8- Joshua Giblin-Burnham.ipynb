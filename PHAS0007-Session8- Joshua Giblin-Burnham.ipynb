{
 "cells": [
  {
   "cell_type": "markdown",
   "metadata": {
    "collapsed": true
   },
   "source": [
    "# Session 8: Joshua Giblin-Burnham\n",
    "\n",
    "In this session we are modelling projectile motion. We are usin v python to show change in balls position vector over time. In this the x position is changing by a constant rate as there is no horizontal acceleration. Y-position is changing at a varying rate due to gravity, this creates the parabolic motion as it is pulled to the ground. In this we neglect air resistance."
   ]
  },
  {
   "cell_type": "code",
   "execution_count": 1,
   "metadata": {},
   "outputs": [
    {
     "data": {
      "text/html": [
       "<div id=\"glowscript\" class=\"glowscript\"></div>"
      ],
      "text/plain": [
       "<IPython.core.display.HTML object>"
      ]
     },
     "metadata": {},
     "output_type": "display_data"
    },
    {
     "data": {
      "application/javascript": [
       "if (typeof Jupyter !== \"undefined\") { window.__context = { glowscript_container: $(\"#glowscript\").removeAttr(\"id\")};}else{ element.textContent = ' ';}"
      ],
      "text/plain": [
       "<IPython.core.display.Javascript object>"
      ]
     },
     "metadata": {},
     "output_type": "display_data"
    }
   ],
   "source": [
    "import numpy as np\n",
    "from vpython import sphere, color, rate, canvas, vector, curve, label\n",
    "import sys\n",
    "#libraries imoported, sys is to exit if wrong e given"
   ]
  },
  {
   "cell_type": "markdown",
   "metadata": {},
   "source": [
    "Formulas used for calculating motion of projectile:\n",
    "\n",
    "$$ x(t) = x_0 + v_0 t \\cos \\theta $$\n",
    "\n",
    "$$ y(t) = y_0 + v_0 t \\sin \\theta -\\frac{1}{2}g t^2 $$\n",
    "\n",
    "$$ \\text{Range} = \\frac{v_0^2 \\sin(2\\theta)}{g} $$\n",
    "\n",
    "Smaller values of dt create a more accurate result, as we are using a loop this is similar to doing a summation over a greater range to get a more accurate result. using smaller dt adds changes over smaller time increment thus more accurate.\n",
    "I use a rate in which `dt*rate value=100`, this is so that calculations of time of flight is equal to time in seconds.\n",
    "\n"
   ]
  },
  {
   "cell_type": "markdown",
   "metadata": {},
   "source": [
    "The incomplete code is below. Complete it following the instructions in the script and use this text cell (add more text cells if you want) to summarise the physics of what you have added to the code."
   ]
  },
  {
   "cell_type": "code",
   "execution_count": null,
   "metadata": {},
   "outputs": [
    {
     "data": {
      "text/html": [
       "<div id=\"glowscript\" class=\"glowscript\"></div>"
      ],
      "text/plain": [
       "<IPython.core.display.HTML object>"
      ]
     },
     "metadata": {},
     "output_type": "display_data"
    },
    {
     "data": {
      "application/javascript": [
       "if (typeof Jupyter !== \"undefined\") { window.__context = { glowscript_container: $(\"#glowscript\").removeAttr(\"id\")};}else{ element.textContent = ' ';}"
      ],
      "text/plain": [
       "<IPython.core.display.Javascript object>"
      ]
     },
     "metadata": {},
     "output_type": "display_data"
    }
   ],
   "source": [
    "canvas(center = vector(50,20,0),range=50)\n",
    "# set up canvas\n",
    "\n",
    "g = 9.8 \n",
    "# gravitational acceleration, m/s2\n",
    "\n",
    "dt = 0.01 \n",
    "# time interval for loop animation, in seconds\n",
    "\n",
    "x0 = 0.0 \n",
    "# initial ball x-coordinate (metres)\n",
    "\n",
    "\n",
    "y0 = float(input(\"Input the initial height in metres: \"))\n",
    "\n",
    "dtheta = float(input(\"Input the initial angle in degrees: \"))\n",
    "\n",
    "theta = np.radians(dtheta)\n",
    "\n",
    "v0 = float(input(\"Input the initial speed in metres/second: \"))\n",
    "# input initial conditions (height, angle and speed)\n",
    "\n",
    "\n",
    "\n",
    "ball = sphere(pos = vector(x0,y0,0),radius = 1,make_trail=True)\n",
    "\n",
    "plat = curve(pos=[vector(x0-2,y0-1,0),vector(x0+2,y0-1,0)],color = color.white)\n",
    "\n",
    "ground = curve(pos=[vector(-5,-1,0),vector(50,-1,0)],color = color.red)\n",
    "# start the animation, produces sphere, ground and platform\n",
    "\n",
    "t = 0 \n",
    "# initiatise time\n",
    "y=0\n",
    "#initiatise y\n",
    "    \n",
    "while y>= 0: \n",
    "    # repeats until it his groung at y=0\n",
    "    \n",
    "    rate(100)                        \n",
    "    # sets animation to 100 a second as dt is 0.01s\n",
    "    \n",
    "    x= x0 + v0*t*(np.cos(theta))\n",
    "    \n",
    "    y= y0 + v0*t*(np.sin(theta)) - 0.5*g*(t**2)\n",
    "    #cal. change in balls position \n",
    "    \n",
    "    ball.pos = vector(x,y,0)  \n",
    "    # move ball to new vectors    \n",
    "    \n",
    "    t=t+dt\n",
    "    #iterates over time\n",
    "    \n",
    "    ground = curve(pos=[vector(-5,-1,0),vector(x,-1,0)],color = color.red)\n",
    "    # reset ground to end position length\n",
    "    \n",
    "\n",
    "        \n",
    "r = (v0**2)*(np.sin(2*theta))/g\n",
    "# cal. range\n",
    "\n",
    "L= label(pos=vector(x,y+10,0), text= 'Horizontal displacement:'+str(ball.pos.x)+'m \\n Time taken:'+str(t)+'s')\n",
    "# adds label of time and range\n",
    "\n",
    "\n",
    "print('Balls final position vector:', ball.pos)\n",
    "print('Balls x-displacement:', ball.pos.x, 'm')\n",
    "print('Calculatted range of projection:', r, 'm')\n",
    "print('Difference in distance values:', r-(ball.pos.x), 'm')"
   ]
  },
  {
   "cell_type": "markdown",
   "metadata": {},
   "source": [
    "#### CHALLENGE!\n",
    "Our projectile will change at each bounce, depending on $e$, giving us the following four equations:\n",
    "\n",
    "The angle of incidence is defined relative to the normal (i.e. $y$-axis):\n",
    "\n",
    "$$ \\alpha = \\frac{\\pi}{2} - \\theta $$\n",
    "\n",
    "This gives us the angle of reflection, again relative to the normal (see eqn 377 of PHAS0010 section 7):\n",
    "\n",
    "$$ \\beta = \\arctan\\left(\\frac{\\tan \\alpha }{e} \\right)$$\n",
    "\n",
    "From these we can calculate the speed of the ball following the bounce, $v_0^\\prime$:\n",
    "\n",
    "$$ v_0^\\prime =  \\frac{\\cos \\alpha}{\\cos \\beta} v_0 e$$\n",
    "\n",
    "And the launch angle (relative to the $x$-axis, as before) of the ball following the bounce:\n",
    "\n",
    "$$ \\theta^\\prime = \\frac{\\pi}{2} - \\beta $$ \n",
    "\n",
    "Does your code now give realistic results? Add a text cell to your code to explain why/why not."
   ]
  },
  {
   "cell_type": "code",
   "execution_count": 5,
   "metadata": {},
   "outputs": [
    {
     "data": {
      "text/html": [
       "<div id=\"glowscript\" class=\"glowscript\"></div>"
      ],
      "text/plain": [
       "<IPython.core.display.HTML object>"
      ]
     },
     "metadata": {},
     "output_type": "display_data"
    },
    {
     "data": {
      "application/javascript": [
       "if (typeof Jupyter !== \"undefined\") { window.__context = { glowscript_container: $(\"#glowscript\").removeAttr(\"id\")};}else{ element.textContent = ' ';}"
      ],
      "text/plain": [
       "<IPython.core.display.Javascript object>"
      ]
     },
     "metadata": {},
     "output_type": "display_data"
    },
    {
     "name": "stdout",
     "output_type": "stream",
     "text": [
      "Input the initial height in metres: 0\n",
      "Input the initial angle in degrees: 45\n",
      "Input the initial speed in metres/second: 20\n",
      "Input the coefficent of restitution: 0.5\n",
      "<89.0536, -0.00049, 0>\n"
     ]
    }
   ],
   "source": [
    "canvas(center = vector(50,20,0),range=50)\n",
    "# set up canvas\n",
    "\n",
    "g = 9.8 \n",
    "# gravitational acceleration, m/s2\n",
    "\n",
    "dt = 0.01 \n",
    "# time interval for loop animation, in seconds\n",
    "\n",
    "x0 = 0.0 \n",
    "# initial ball x-coordinate (metres)\n",
    "\n",
    "\n",
    "y0 = float(input(\"Input the initial height in metres: \"))\n",
    "\n",
    "dtheta = float(input(\"Input the initial angle in degrees: \"))\n",
    "\n",
    "theta = np.radians(dtheta)\n",
    "\n",
    "v0 = float(input(\"Input the initial speed in metres/second: \"))\n",
    "# input initial conditions (height, angle and speed)\n",
    "e = float(input(\"Input the coefficent of restitution: \"))\n",
    "# input initial conditions (height, angle and speed)\n",
    "\n",
    "if e<0 or e>1 :\n",
    "    print('Must be 0<e<1')\n",
    "    sys.exit('not valid')\n",
    "    #stops wrong e's\n",
    "\n",
    "ball = sphere(pos = vector(x0,y0,0),radius = 1,make_trail=True)\n",
    "\n",
    "plat = curve(pos=[vector(x0-2,y0-1,0),vector(x0+2,y0-1,0)],color = color.white)\n",
    "\n",
    "ground = curve(pos=[vector(-5,-1,0),vector(50,-1,0)],color = color.red)\n",
    "# start the animation, produces sphere, ground and platform\n",
    "\n",
    "t=0\n",
    "total_t=0\n",
    "# initiatise time\n",
    "y=0\n",
    "#initiatise y\n",
    "\n",
    "while v0 >= 5: \n",
    "    while y >= 0:\n",
    "        t=t+dt\n",
    "        #iterates over time\n",
    "        \n",
    "        total_t= total_t+dt\n",
    "    \n",
    "        rate(100)                        \n",
    "        # sets animation to 100 a second as dt is 0.01s\n",
    "    \n",
    "        x= x0 + v0*t*(np.cos(theta))\n",
    "    \n",
    "        y= y0 + v0*t*(np.sin(theta)) - 0.5*g*(t**2)\n",
    "        #cal. change in balls position \n",
    "    \n",
    "        ball.pos = vector(x,y,0)  \n",
    "        # move ball to new vectors    \n",
    "        \n",
    "        ground = curve(pos=[vector(-5,-1,0),vector(x,-1,0)],color = color.red)\n",
    "        # reset ground to end position length\n",
    "    \n",
    "    x0=x\n",
    "    y0=0\n",
    "    y=0\n",
    "    t=0\n",
    "    \n",
    "    alpha= (np.pi/2) - theta\n",
    "        \n",
    "    beta= np.arctan(np.tan(alpha)/e)\n",
    "\n",
    "    v0= (np.cos(alpha)/np.cos(beta))*v0*e\n",
    "    \n",
    "    theta = np.pi/2 - beta                     \n",
    "         \n",
    "print(ball.pos)\n",
    "#r = (v0**2)*(np.sin(2*theta))/g\n",
    "#print(r)"
   ]
  },
  {
   "cell_type": "code",
   "execution_count": null,
   "metadata": {},
   "outputs": [],
   "source": []
  }
 ],
 "metadata": {
  "anaconda-cloud": {},
  "kernelspec": {
   "display_name": "Python 3",
   "language": "python",
   "name": "python3"
  },
  "language_info": {
   "codemirror_mode": {
    "name": "ipython",
    "version": 3
   },
   "file_extension": ".py",
   "mimetype": "text/x-python",
   "name": "python",
   "nbconvert_exporter": "python",
   "pygments_lexer": "ipython3",
   "version": "3.7.3"
  }
 },
 "nbformat": 4,
 "nbformat_minor": 1
}
